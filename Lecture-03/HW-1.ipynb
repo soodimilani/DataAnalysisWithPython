{
 "cells": [
  {
   "cell_type": "markdown",
   "metadata": {},
   "source": [
    "# Assignment 1 - Soodabeh Milanlouei (NU ID:001716816)"
   ]
  },
  {
   "cell_type": "markdown",
   "metadata": {},
   "source": [
    "## Question 1 - 15 Points"
   ]
  },
  {
   "cell_type": "markdown",
   "metadata": {},
   "source": [
    "Create a list of numbers which are multiple of 3 and 7 between 1 to 500 (5 points). "
   ]
  },
  {
   "cell_type": "code",
   "execution_count": 1,
   "metadata": {
    "collapsed": true
   },
   "outputs": [],
   "source": [
    "import numpy as np                                      #import required modules"
   ]
  },
  {
   "cell_type": "code",
   "execution_count": 63,
   "metadata": {
    "collapsed": true
   },
   "outputs": [],
   "source": [
    "MyList = []                                             #make an empty list\n",
    "for i in range(1,501):                                  #go through numbers from 1 to 500\n",
    "    if i%3==0:                                          #check if the number is dividable by 3. if yes go next\n",
    "        if i%7==0:                                      #if the same number is dividable by 7 too:\n",
    "            MyList.append(i)                            #append the number to your list\n",
    "        "
   ]
  },
  {
   "cell_type": "markdown",
   "metadata": {},
   "source": [
    "For the list, find what is the mean. Print what is 1st quartile, 2nd quartile and 3rd quartile. (10 points)"
   ]
  },
  {
   "cell_type": "code",
   "execution_count": 66,
   "metadata": {
    "collapsed": false
   },
   "outputs": [
    {
     "name": "stdout",
     "output_type": "stream",
     "text": [
      "mean is equal to 252\n"
     ]
    }
   ],
   "source": [
    "n = len(MyList)                                         #check how many numbers you have in the list, call it n\n",
    "mean_MyList = 0                                         #define a variable as mean_Mylist = 0\n",
    "for i in MyList:                                        #go through the elements in the list\n",
    "    mean_MyList +=i                                     # sum up the elements all together\n",
    "mean_MyList/=n                                          #divide the sum by the number of elements in the list\n",
    "print 'mean is equal to ' + str(mean_MyList)            # print the mean"
   ]
  },
  {
   "cell_type": "code",
   "execution_count": 67,
   "metadata": {
    "collapsed": false
   },
   "outputs": [
    {
     "name": "stdout",
     "output_type": "stream",
     "text": [
      "median is equal to 273\n"
     ]
    }
   ],
   "source": [
    "median = 0                                              # define a variable as median (Q2) = 0\n",
    "MyList = sorted(MyList)                                 #make sure the list is sorted\n",
    "\n",
    "if n%2==0:                                              #if an even number of elemets are in the list,\n",
    "    median = .5*(MyList[n/2]+MyList[n/2+1])             #average of (n/2)-th and (n/2+1)-th element is median   \n",
    "else:                                                   #if odd, ((n+1)/2)-th element is the median\n",
    "    median = MyList[(n+1)/2]\n",
    "\n",
    "print 'median is equal to '+str(median)                 #print the median      "
   ]
  },
  {
   "cell_type": "code",
   "execution_count": 69,
   "metadata": {
    "collapsed": false
   },
   "outputs": [
    {
     "name": "stdout",
     "output_type": "stream",
     "text": [
      "Q1 = 147,Q3 = 399\n"
     ]
    }
   ],
   "source": [
    "Q1 = 0                                                  #same steps for Q1 and Q3\n",
    "Q3 = 0\n",
    "if n%4==0:                                              #n dividable by 4, Q1 = average of (n/4)-th and (n/4+1)\n",
    "                                                        #-th\n",
    "    Q1 = .5*(MyList[n/4]+MyList[n/4+1])\n",
    "    \n",
    "else:                                                   #otherwise, Q1 = ((n+1)/4)-th element\n",
    "    Q1 = MyList[(n+1)/4]\n",
    "    \n",
    "if 3*n%4==0:\n",
    "    Q3 = .5*(MyList[3*n/4]+MyList[3*n/4+1])\n",
    "    \n",
    "else:\n",
    "    Q3 = MyList[3*(n+1)/4]\n",
    "    \n",
    "print 'Q1 = '+str(Q1)+','+'Q3 = '+str(Q3)\n"
   ]
  },
  {
   "cell_type": "markdown",
   "metadata": {},
   "source": [
    "## Question 2 - 15 Points"
   ]
  },
  {
   "cell_type": "markdown",
   "metadata": {},
   "source": [
    "Read the file ‘ques2.txt’. Print the number of words. (5 points) "
   ]
  },
  {
   "cell_type": "code",
   "execution_count": 76,
   "metadata": {
    "collapsed": false
   },
   "outputs": [
    {
     "name": "stdout",
     "output_type": "stream",
     "text": [
      "The number of words is 309\n"
     ]
    }
   ],
   "source": [
    "data = open('ques2.txt','r')                            #open the file, put it in 'data'\n",
    "\n",
    "for i in data:                                          #go through data, sparse it by space\n",
    "    n_words = i.strip().split(' ')                      #n_words would be a list of strings\n",
    "print 'The number of words is '+str(len(n_words))       #print the number of elements in n_words"
   ]
  },
  {
   "cell_type": "markdown",
   "metadata": {},
   "source": [
    "Find out what is the average, median and mode for word length (character length) (10 points). "
   ]
  },
  {
   "cell_type": "code",
   "execution_count": 78,
   "metadata": {
    "collapsed": false
   },
   "outputs": [
    {
     "name": "stdout",
     "output_type": "stream",
     "text": [
      "the mean of number of letters is  5\n",
      "the median of number of letters is  5\n",
      "the mode of number of letters is  17\n"
     ]
    }
   ],
   "source": [
    "n_letters = []                                      #make an empty list to store the number of letters\n",
    "                                                    #in each word\n",
    "for i in n_words:                                   #for each word, append the number of letters to list\n",
    "    n_letters.append(len(i))\n",
    "\n",
    "    \n",
    "mean_letter = 0                                     #compute the mean and median as before\n",
    "for i in n_letters:\n",
    "    mean_letter+=i\n",
    "mean_letter/=len(n_letters)\n",
    "print 'the mean of number of letters is ', mean_letter\n",
    "\n",
    "n_letters = sorted(n_letters)\n",
    "n = len(n_letters)\n",
    "median_letter = 0\n",
    "if n%2==0:\n",
    "    median_letter = .5*(n_letters[n/2]+n_letters[n/2+1])\n",
    "    \n",
    "else:\n",
    "    median_letter = n_letters[(n+1)/2]\n",
    "print 'the median of number of letters is ', median_letter\n",
    "\n",
    "                                                    #the largest number is the  mode\n",
    "mode_letter = max(n_letters)\n",
    "print 'the mode of number of letters is ', mode_letter"
   ]
  },
  {
   "cell_type": "markdown",
   "metadata": {
    "collapsed": true
   },
   "source": [
    "## Question 3 - 35 Points"
   ]
  },
  {
   "cell_type": "markdown",
   "metadata": {},
   "source": [
    "There are 1500 json files in ‘Lecture03/question03’. Find out how many of the files contain the string, ‘User not found’ (case insensitive). (15 points) "
   ]
  },
  {
   "cell_type": "code",
   "execution_count": 2,
   "metadata": {
    "collapsed": false
   },
   "outputs": [],
   "source": [
    "import json                                                  #import required modules\n",
    "import os"
   ]
  },
  {
   "cell_type": "code",
   "execution_count": 95,
   "metadata": {
    "collapsed": false,
    "scrolled": true
   },
   "outputs": [
    {
     "name": "stdout",
     "output_type": "stream",
     "text": [
      "The number of UserNotFound is  877\n"
     ]
    }
   ],
   "source": [
    "path = 'jsons/'\n",
    "files = os.listdir(path)                                     #go to the folder in which the files are stored\n",
    "c = 0                                                        # c is a counter which is 0 at first.\n",
    "for i in (files):\n",
    "    if i=='.DS_Store':                                       #make sure you are just reading the json files\n",
    "        continue\n",
    "    else: \n",
    "        with open('jsons/'+str(i)) as json_data:            \n",
    "            d = json.load(json_data)                         #load the json file\n",
    "            if 'User Not Found' in d.values():               # if the dict contains the string, add 1 to c\n",
    "                c+=1\n",
    "            else:                                            #otherwise, go to the next file\n",
    "                continue\n",
    "print 'The number of UserNotFound is ',c                      #print the number"
   ]
  },
  {
   "cell_type": "markdown",
   "metadata": {},
   "source": [
    "Create a dictionary, containing (user_id,present). present is 0 if ‘user not found’ else 1. Print random 5 entries (20 points)."
   ]
  },
  {
   "cell_type": "code",
   "execution_count": 98,
   "metadata": {
    "collapsed": false
   },
   "outputs": [
    {
     "name": "stdout",
     "output_type": "stream",
     "text": [
      "the number if present users is  623\n"
     ]
    }
   ],
   "source": [
    "user_present = {}                                            #make an empty dict\n",
    "\n",
    "path = 'jsons/'\n",
    "files = os.listdir(path)\n",
    "c = 0\n",
    "for i in (files):\n",
    "    if i=='.DS_Store':\n",
    "        continue\n",
    "    else: \n",
    "        with open('jsons/'+str(i)) as json_data:\n",
    "            d = json.load(json_data)\n",
    "            user_present.setdefault(i,'nan')                 #the ID of each is the key.\n",
    "            if 'User Not Found' in d.values():               #if the file contains UserNotFound, value = 0\n",
    "                user_present[i] = 0\n",
    "            else:                                            #otherwise, value = 1\n",
    "                user_present[i] = 1\n",
    "                c+=1\n",
    "print 'the number if present users is ', c                   #c is 623 which make sense! (1500-877)"
   ]
  },
  {
   "cell_type": "code",
   "execution_count": 109,
   "metadata": {
    "collapsed": false
   },
   "outputs": [
    {
     "name": "stdout",
     "output_type": "stream",
     "text": [
      "GBT1NRJY1BM6fj5.json  :  0\n",
      "VnN6zg6r1zLlRS5.json  :  1\n",
      "RjMCFkE11B3zIi5.json  :  1\n",
      "AnhmBX0Z1BMLcf5.json  :  1\n",
      "RQkMZUZe1BI0UM2.json  :  1\n",
      "vNGkqbXk1BMKjd2.json  :  1\n"
     ]
    }
   ],
   "source": [
    "keys=user_present.keys()\n",
    "np.random.shuffle(keys)                                     #shuffle the keys in the dict!\n",
    "c = 0\n",
    "for key in keys:                                            #print the first five!\n",
    "    print key, ' : ',user_present[key]\n",
    "    c +=1\n",
    "    if c>5:                                                 # a conndition to make sure we do not print more\n",
    "        break                                               # than 5 entries\n",
    "     \n",
    "    "
   ]
  },
  {
   "cell_type": "markdown",
   "metadata": {},
   "source": [
    "## Question 4 - 35 Points"
   ]
  },
  {
   "cell_type": "markdown",
   "metadata": {},
   "source": [
    "For the same Json files, there is a field, `segmentUid` which can either start with 0xxxx(lets call them 1st party data) or 1xxxxx (lets call them 3rd party data). For each user, count the number of first party segments  and third party segments. Points (35 points) "
   ]
  },
  {
   "cell_type": "code",
   "execution_count": 110,
   "metadata": {
    "collapsed": false
   },
   "outputs": [
    {
     "name": "stdout",
     "output_type": "stream",
     "text": [
      "{'BG7SjKA21BuLQG5.json': {'third': 0, 'first': 3}, 'ZncSuVAK1BMxW22.json': {'third': 0, 'first': 1}, 'znNaVJvD1ByXRA5.json': {'third': 424, 'first': 102}, 'QAr7G9t41BIRoS5.json': {'third': 0, 'first': 54}, 'ABwpqKRf1Bz2UG5.json': {'third': 0, 'first': 68}, 'GbstW8if1B4xPO5.json': {'third': 929, 'first': 179}, 'AJmn0gHp1BDJ242.json': {'third': 0, 'first': 35}, 'g30TxF1W1A5zip5.json': {'third': 205, 'first': 27}, 'W6xg92mB1AvRLa5.json': {'third': 238, 'first': 155}, 'q7Y681J51zK01u2.json': {'third': 0, 'first': 212}, 'ZUUy97hQ1Bwtlc5.json': {'third': 1, 'first': 1}, 'gbdplUAy1BMnmc2.json': {'third': 0, 'first': 1}, 'WFgvm0ph1ATGxm5.json': {'third': 987, 'first': 211}, 'ARI5Y6ZM1BImA25.json': {'third': 0, 'first': 12}, 'wTB9SJ4h1BEvUK5.json': {'third': 0, 'first': 12}, 'vyAAuMo81BH2sd5.json': {'third': 0, 'first': 11}, 'Wy10fDIa1ADsur5.json': {'third': 0, 'first': 21}, 'B7R1QfGl1AvPZw5.json': {'third': 1224, 'first': 194}, 'wjYP4axi1BM4qd5.json': {'third': 55, 'first': 10}, 'rbBHXXAu1BHqTl5.json': {'third': 0, 'first': 0}, 'WvfhW5CW1BKz8T5.json': {'third': 0, 'first': 5}, 'wkYmL1Iy1BAmWx5.json': {'third': 0, 'first': 226}, 'ruE1v11v1BMHIh2.json': {'third': 0, 'first': 4}, 'VOIcWFmB1BKhmf5.json': {'third': 0, 'first': 3}, 'WgO5xdqB1AlD9F5.json': {'third': 97, 'first': 29}, 'w8oH2uDi1BMAXJ2.json': {'third': 0, 'first': 4}, 'wbNrlBLw1ACJMx5.json': {'third': 5, 'first': 65}, 'RjMCFkE11B3zIi5.json': {'third': 0, 'first': 261}, 'FxTuYsfm1BnEYC5.json': {'third': 0, 'first': 0}, 'QWqdZF2t1AthDN5.json': {'third': 0, 'first': 0}, 'RKOYw5sY1ByIY22.json': {'third': 33, 'first': 10}, 'G0GCyqRk1Ba51g5.json': {'third': 1806, 'first': 192}, 'BoMsIYqa1BDho55.json': {'third': 18, 'first': 11}, 'ZSzfe3jX1B2aT65.json': {'third': 0, 'first': 1}, 'BCaQ1o0L1BF6Vv2.json': {'third': 28, 'first': 87}, 'BA0Q9k0P1BGDyo2.json': {'third': 2, 'first': 7}, 'zsX3Qg1s1BMx512.json': {'third': 0, 'first': 4}, 'rbdU0rGk1BqgNk5.json': {'third': 3013, 'first': 275}, 'R7FJCkge1ANWJf5.json': {'third': 2, 'first': 161}, 'Qtu8zclN1znQkl5.json': {'third': 1618, 'first': 108}, 'WIiYrHvN1Afwcq5.json': {'third': 0, 'first': 1}, 'zOInRjY61BzwE25.json': {'third': 1, 'first': 195}, 'VSmsuQLi1zHoRH5.json': {'third': 0, 'first': 5}, 'VmU8tt491BM1UC2.json': {'third': 0, 'first': 1}, 'zqt0g3be1BMMAA5.json': {'third': 0, 'first': 3}, 'AlpgeUoO6y2LshqJxIu5tvHKcisaiRxY.json': {'third': 194, 'first': 44}, 'WQuLQDyn1BLrNE5.json': {'third': 6, 'first': 0}, 'VZDt2qcc1BFmBl5.json': {'third': 0, 'first': 0}, 'znqz1JY51BMmy05.json': {'third': 164, 'first': 10}, 'RCtixFDc1BMMU02.json': {'third': 0, 'first': 1}, 'wb7GFvQJ1B0hYM5.json': {'third': 0, 'first': 3}, 'WRwZkEWX1AMb605.json': {'third': 9, 'first': 123}, 'ZpQjxq0d1BMbYu2.json': {'third': 0, 'first': 4}, 'WIaQQcMu1BDlTh5.json': {'third': 0, 'first': 0}, 'Bt8HN1TN1AZbUB5.json': {'third': 16, 'first': 10}, 'rnWS78W61Bz3Lj5.json': {'third': 0, 'first': 64}, 'zMTquV0G1A3zO95.json': {'third': 1481, 'first': 420}, 'GCkFM4uj1BpNS65.json': {'third': 2613, 'first': 251}, 'G4ygoHJR1BCZ5i2.json': {'third': 335, 'first': 118}, 'r3HyXat91APNOu5.json': {'third': 94, 'first': 179}, 'RCrCAOZv1B7JMI5.json': {'third': 321, 'first': 270}, 'Q5EnGgDM1BhWjo5.json': {'third': 3, 'first': 4}, 'BiSyaEpH1BHs2P5.json': {'third': 1, 'first': 11}, 'QWbykDVS1BMaD92.json': {'third': 0, 'first': 1}, 'B5jXbs5X1BMwhq5.json': {'third': 0, 'first': 6}, 'VT8pdysN1zvRqK5.json': {'third': 35, 'first': 243}, 'ZPbR4mg11BMIf25.json': {'third': 0, 'first': 3}, 'FwesrNXp1ABBQT5.json': {'third': 0, 'first': 5}, 'QS9Jnyre1Bzq2z2.json': {'third': 573, 'first': 21}, 'RgeMZ2Qb1BkRzq5.json': {'third': 16, 'first': 155}, 'Zrrns0lJ1Bdo305.json': {'third': 0, 'first': 227}, 'Vztegpyo1AesYV5.json': {'third': 7, 'first': 2}, 'vzyuFUlL1BdiyH5.json': {'third': 221, 'first': 282}, 'w3cgOQxl1BGX235.json': {'third': 0, 'first': 6}, 'g8Ej8Y901BL4e45.json': {'third': 0, 'first': 53}, 'WaDLKoZE1AikRv5.json': {'third': 1608, 'first': 303}, 'AR0hkF421BFyc25.json': {'third': 0, 'first': 1}, 'wFjp1u1o1BHqYz5.json': {'third': 0, 'first': 27}, 'g54OZDxJ1AjU9A5.json': {'third': 776, 'first': 93}, 'Vp8oy8lN1Bs9Ky5.json': {'third': 0, 'first': 0}, 'w0ER8rln1BwRng5.json': {'third': 12, 'first': 5}, 'rqIAinu01BDpqe5.json': {'third': 41, 'first': 12}, 'vLdmrHKE1BJvsw5.json': {'third': 0, 'first': 8}, 'WIfzZm0U1BHkwx5.json': {'third': 0, 'first': 2}, 'Fxf1G7Es1BoYdG5.json': {'third': 1310, 'first': 395}, 'ZnrJ1QXr1AuC3x5.json': {'third': 0, 'first': 2}, 'RMo7Cxzi1Bgf8d5.json': {'third': 114, 'first': 105}, 'Qpu2EAfQ1BMm5J2.json': {'third': 0, 'first': 4}, 'G2l0GlBb1Bwpxf5.json': {'third': 977, 'first': 190}, 'G6yvLRud1BJylQ2.json': {'third': 2, 'first': 20}, 'qUogFx1H1B4kac2.json': {'third': 104, 'first': 132}, 'BN5TKLdK1zsXgV5.json': {'third': 2494, 'first': 253}, 'AKeCOVxv1AR78w5.json': {'third': 914, 'first': 301}, 'AYBhCCwF1zzi5m5.json': {'third': 0, 'first': 231}, 'rUcoRMHx1Ak9SX5.json': {'third': 0, 'first': 171}, 'W1LzOgzH1BMNpp2.json': {'third': 0, 'first': 4}, 'vqTjwdYb1BMy7s5.json': {'third': 8, 'first': 5}, 'zSIKqV4u1BEsgg5.json': {'third': 175, 'first': 108}, 'BDCb90TA1BLgGH5.json': {'third': 20, 'first': 88}, 'ABSy3tf91BzpGe5.json': {'third': 26, 'first': 12}, 'qQfVQ5Hf1BJuks5.json': {'third': 0, 'first': 20}, 'G0aXzHDS1BMzKr2.json': {'third': 0, 'first': 4}, 'r2OH1qz91zWJgQ5.json': {'third': 378, 'first': 309}, 'rMXdZsXg1BERmv5.json': {'third': 279, 'first': 206}, 'VuGrlYM11BJy6Z5.json': {'third': 0, 'first': 34}, 'BT50R6Qw1BMqhl5.json': {'third': 0, 'first': 4}, 'WCO10JB01BLlp35.json': {'third': 3, 'first': 3}, 'BMjPBNTk1AOWPF5.json': {'third': 1091, 'first': 380}, 'AGIKzXTx1BMMk75.json': {'third': 4, 'first': 4}, 'R8nkA9GD1Borkr5.json': {'third': 103, 'first': 19}, 'RkLRclQqb7zWsPZXCEbrns4zumGJBBCJ.json': {'third': 0, 'first': 17}, 'Qve9aYp91zzUnC5.json': {'third': 0, 'first': 159}, 'wAA7GQZL1BDxzh5.json': {'third': 399, 'first': 53}, 'WqdFTpNQ1AFYt65.json': {'third': 751, 'first': 105}, 'vQ0m53Ax1BI45J5.json': {'third': 0, 'first': 3}, 'wOnr5rke1BMGCv5.json': {'third': 0, 'first': 1}, 'AGCpEWWb1BEx235.json': {'third': 0, 'first': 4}, 'VUbqbYjj1BMx675.json': {'third': 1, 'first': 2}, 'REInZTyX1BMxe62.json': {'third': 0, 'first': 1}, 'wMLb9zFP1ASZR85.json': {'third': 2048, 'first': 213}, 'FwTVVs8j1AJO1U5.json': {'third': 64, 'first': 262}, 'wuoLWeMB1AfUU32.json': {'third': 0, 'first': 3}, 'BIpfcxZA1zQ35g5.json': {'third': 0, 'first': 418}, 'QtahjAZT1BMLgW5.json': {'third': 0, 'first': 4}, 'WJwUWKFr1zOBp52.json': {'third': 13, 'first': 113}, 'rR8iX0HM1BEwXK2.json': {'third': 53, 'first': 22}, 'reobCSyd1BFFrS5.json': {'third': 0, 'first': 0}, 'g9FbT5GAvfhYXIYrLDN8hGIJPeOvdRye.json': {'third': 0, 'first': 1}, 'Wxp6oLx41BJPGf5.json': {'third': 0, 'first': 12}, 'VKnyAdDs1BgRL35.json': {'third': 288, 'first': 392}, 'G7ILtDa31BwXhx5.json': {'third': 62, 'first': 71}, 'wC5uP2Ht1BJOeq5.json': {'third': 0, 'first': 14}, 'RehuTeXf1BKV2b5.json': {'third': 0, 'first': 11}, 'vIaWDxe21BHeX45.json': {'third': 0, 'first': 1}, 'Bb0vE5cP1BLNMa5.json': {'third': 0, 'first': 3}, 'G7rpQ4vY1BI6uM2.json': {'third': 0, 'first': 2}, 'wTu8gCreexE7dFFsoAK0dSCTSXDOBL0x.json': {'third': 22, 'first': 169}, 'Vrjd5vpq1Advbq5.json': {'third': 335, 'first': 101}, 'rrOPB4jR1BLZrB5.json': {'third': 12, 'first': 11}, 'fWOrVAxL1BMLWy2.json': {'third': 0, 'first': 4}, 'VIEaQ5Ey1BiHhl5.json': {'third': 0, 'first': 294}, 'ZnP8wAxh1BMMoQ2.json': {'third': 0, 'first': 5}, 'RIm45HSY1BFgQA5.json': {'third': 1, 'first': 60}, 'r24op22O1BunLZ5.json': {'third': 58, 'first': 217}, 'R1IYuUzz1AR8Os5.json': {'third': 2, 'first': 178}, 'run6Rgjd1BuoAv5.json': {'third': 590, 'first': 80}, 'wj8rTOOl1BEyqI5.json': {'third': 11, 'first': 12}, 'VHyOyWcCTwVwZeJyXZH427pWsWKNWbsg.json': {'third': 0, 'first': 163}, 'ZOibOH801AM1Ad5.json': {'third': 117, 'first': 153}, 'RgMORvt81AMI4r5.json': {'third': 0, 'first': 3}, 'BqPyokHE1Acifj5.json': {'third': 1187, 'first': 236}, 'Gc90Oc0x1zQO9M5.json': {'third': 38, 'first': 67}, 'vSzyn86Y1BH8yF5.json': {'third': 16, 'first': 13}, 'WMW6SIZe1BKLSo5.json': {'third': 11, 'first': 5}, 'W0F73CNI1BM8Gh2.json': {'third': 0, 'first': 1}, 'rUgMObVC1BB8O35.json': {'third': 0, 'first': 4}, 'rcddMu2Y1BGiSo5.json': {'third': 0, 'first': 0}, 'qq9kS06r1B6lcp5.json': {'third': 662, 'first': 235}, 'AQLqHEvX1BLnIp5.json': {'third': 0, 'first': 7}, 'FX5fmTRe1BnZec5.json': {'third': 130, 'first': 220}, 'QW5fjLE21BH3B35.json': {'third': 7, 'first': 7}, 'G03xcobX1BjAxe5.json': {'third': 1, 'first': 3}, 'wojrdqup1AZVyC5.json': {'third': 5, 'first': 1}, 'wKBrd3Za1BJkDr2.json': {'third': 22, 'first': 12}, 'VuujW5f61BlTna5.json': {'third': 1043, 'first': 205}, 'wpQwNEu71BDsFt5.json': {'third': 7, 'first': 5}, 'RchaJXZU1B0bPK5.json': {'third': 885, 'first': 77}, 'RQkMZUZe1BI0UM2.json': {'third': 0, 'first': 17}, 'R6KTK5QO1BMs7t2.json': {'third': 0, 'first': 4}, 'RLHN1Vk91BbIQk5.json': {'third': 1775, 'first': 159}, 'Whyg5OJX1BIbQv5.json': {'third': 0, 'first': 21}, 'rhxmikOH1BmWKB5.json': {'third': 0, 'first': 6}, 'RsRfgh3v1B92BJ5.json': {'third': 0, 'first': 7}, 'ARGizL9S1B8ZD25.json': {'third': 66, 'first': 103}, 'VPPA4CmX1BugZy5.json': {'third': 1341, 'first': 268}, 'RmtpGQeX1zsWF15.json': {'third': 1874, 'first': 170}, 'ALxJlgbJ1BhwXC5.json': {'third': 3, 'first': 2}, 'A3bVx1T11BLTx65.json': {'third': 0, 'first': 5}, 'ZuQO68HJ1BC5bh5.json': {'third': 0, 'first': 10}, 'WlpSX49U1BKbiB5.json': {'third': 9, 'first': 28}, 'w8JsGfDn1BsN3H5.json': {'third': 980, 'first': 242}, 'qxDZeVmG1BJQPj5.json': {'third': 0, 'first': 38}, 'QuI5P7sG1BoBus5.json': {'third': 790, 'first': 156}, 'WiLPib4d1BHM4i5.json': {'third': 2, 'first': 8}, 'QWqI76vY1BCSPK5.json': {'third': 229, 'first': 24}, 'VZ0udpKf1BLEqG5.json': {'third': 0, 'first': 2}, 'zqbZpPLf1BMPOG5.json': {'third': 0, 'first': 4}, 'Gb51o7ol1BA8Jf5.json': {'third': 7, 'first': 48}, 'r8eR4nDu1BMOCx2.json': {'third': 0, 'first': 2}, 'wRVS3dyL1BM8US5.json': {'third': 0, 'first': 5}, 'vjxp4aHx1Astzo5.json': {'third': 697, 'first': 199}, 'QZL7nIpc1AN9w22.json': {'third': 734, 'first': 264}, 'W9ggYZtQ1BMqRD2.json': {'third': 0, 'first': 1}, 'RuCV2Ml01BztxS5.json': {'third': 0, 'first': 1}, 'Qu1x0BYC1AHPoe5.json': {'third': 0, 'first': 152}, 'qPB2M3Bj1ABQY25.json': {'third': 7, 'first': 295}, 'BENy3u321Bu3jA5.json': {'third': 1469, 'first': 58}, 'WaY4jHJL1AAoQN5.json': {'third': 0, 'first': 95}, 'WRoTINWe1BMN9Q5.json': {'third': 0, 'first': 1}, 'vxe4Aqve1BM9oT5.json': {'third': 0, 'first': 2}, 'RRhP7AZu1AW5Vn5.json': {'third': 205, 'first': 192}, 'rfjK1sh51AKAIe5.json': {'third': 166, 'first': 109}, 'g80GJLlK1BKis35.json': {'third': 0, 'first': 9}, 'RoQ441oX1Br3TE5.json': {'third': 89, 'first': 45}, 'w9LFyUcR1BgSo35.json': {'third': 0, 'first': 3}, 'FyXumeBK1BKKMo5.json': {'third': 2, 'first': 7}, 'g07DrnGU1BLE0X5.json': {'third': 0, 'first': 2}, 'Rv7YUw1o1BvnJk5.json': {'third': 725, 'first': 138}, 'qQbfcvFi1B2krk5.json': {'third': 2609, 'first': 305}, 'RIRoYnVj1BMpBT5.json': {'third': 0, 'first': 1}, 'qZigPREc1BMNzi2.json': {'third': 0, 'first': 1}, 'wuRvVBCu1AOZkh5.json': {'third': 478, 'first': 50}, 'AnTIjUWG1BDNX85.json': {'third': 27, 'first': 201}, 'BiStK9rA1zT5VS5.json': {'third': 1955, 'first': 394}, 'ruZhhuu61BjjZH5.json': {'third': 0, 'first': 193}, 'BPmPI8001BMsIa5.json': {'third': 0, 'first': 4}, 'wfY2P5rY1ByDXk5.json': {'third': 685, 'first': 74}, 'ABwA5DAx1Az1g65.json': {'third': 2474, 'first': 188}, 'AuRamyuA1BMJkI2.json': {'third': 0, 'first': 4}, 'whcuo8nr1zxiHb5.json': {'third': 0, 'first': 266}, 'rhJcwbkO1Bo4ZD5.json': {'third': 75, 'first': 70}, 'B0jSr8hO1BqCAc5.json': {'third': 19, 'first': 4}, 'Zv9ImYb81AUS6O5.json': {'third': 505, 'first': 294}, 'qXAOQWaG1BMzsB5.json': {'third': 0, 'first': 1}, 'ROD15LNO1zGDlD5.json': {'third': 74, 'first': 141}, 'gAGOFJsL1BcBsU5.json': {'third': 97, 'first': 46}, 'ZQoOV2fx1BBgyJ5.json': {'third': 385, 'first': 17}, 'wdzXBKdc1BEwfl5.json': {'third': 1050, 'first': 94}, 'QZZl3uCS1By2wz5.json': {'third': 15, 'first': 15}, 'AccoGpwU1BMvn42.json': {'third': 0, 'first': 1}, 'Bk4iIqky1Bl3SL2.json': {'third': 172, 'first': 145}, 'BDVxEPRh1BLQUL5.json': {'third': 32, 'first': 39}, 'RAbXwtOJ1BIsR05.json': {'third': 0, 'first': 3}, 'AFFC2C591BlDCm5.json': {'third': 386, 'first': 48}, 'rekGI7C61AwVWu5.json': {'third': 0, 'first': 76}, 'RLFsETGD1AqMyr5.json': {'third': 0, 'first': 2}, 'rHLEe68s1ARcUj5.json': {'third': 0, 'first': 1}, 'QXXNnlDy1BKdw25.json': {'third': 0, 'first': 5}, 'rRi5LVgw1BbC2j5.json': {'third': 0, 'first': 0}, 'wbPdTWzXQkN0ndTDG4EhXCPXzfr33W2a.json': {'third': 54, 'first': 377}, 'q5N116GQ1BMdbf2.json': {'third': 0, 'first': 1}, 'wqeJNPQ61AwMSC5.json': {'third': 440, 'first': 202}, 'BBR91eEw1BDCxE5.json': {'third': 0, 'first': 18}, 'FXYoNBlF1BMs162.json': {'third': 0, 'first': 1}, 'QxNB4bGg1BH1Xz5.json': {'third': 0, 'first': 8}, 'BIuv0zAE1BLRsg5.json': {'third': 17, 'first': 5}, 'wghzLF0A1Bfarm5.json': {'third': 733, 'first': 290}, 'rsnKu4BH1BhGBD5.json': {'third': 0, 'first': 36}, 'ZvYyHsS31BJMfI5.json': {'third': 3, 'first': 10}, 'vVrtKgMX1BweMp5.json': {'third': 0, 'first': 9}, 'rGoHAdWO1ADNeS2.json': {'third': 159, 'first': 189}, 'rMUhNuX11AeS7d5.json': {'third': 0, 'first': 121}, 'VPGqpAaM1BFYyf5.json': {'third': 3, 'first': 9}, 'vksYxtk71BqBWj5.json': {'third': 765, 'first': 281}, 'wOl4wv2q1zsxAR5.json': {'third': 0, 'first': 210}, 'AxtScjEi1Btf3Y5.json': {'third': 0, 'first': 2}, 'BmsYFBKO1BdaO55.json': {'third': 873, 'first': 34}, 'RFc6ANkN1BLN4R5.json': {'third': 0, 'first': 27}, 'rNozYJSV1AYgIa5.json': {'third': 185, 'first': 60}, 'AsvbNPu71B75C65.json': {'third': 0, 'first': 321}, 'wDFFVP1n1B8WQn5.json': {'third': 2616, 'first': 364}, 'BPXhjodA1BMq0f2.json': {'third': 0, 'first': 1}, 'FvIMrHQk1BnrqL5.json': {'third': 1052, 'first': 168}, 'AniGWaG71BFC205.json': {'third': 86, 'first': 89}, 'AdjWlMHv1A8vM55.json': {'third': 14, 'first': 125}, 'AdLIMIYD1BuDiU2.json': {'third': 159, 'first': 44}, 'REon76Ro1Bk6t55.json': {'third': 0, 'first': 8}, 'rlCDZMai1ALhom5.json': {'third': 369, 'first': 56}, 'ZQcoKCmB1B5eii5.json': {'third': 484, 'first': 369}, 'VH8e8hPS1BJ8A65.json': {'third': 0, 'first': 16}, 'FvxnmIZU1AWxGP5.json': {'third': 0, 'first': 1}, 'WH3GDa5v1BK0iu5.json': {'third': 0, 'first': 1}, 'BGijYBDQ1AX6HB5.json': {'third': 105, 'first': 9}, 'vkwwRtNf1zRhlQ5.json': {'third': 0, 'first': 473}, 'VnN6zg6r1zLlRS5.json': {'third': 948, 'first': 373}, 'ATPm3LpW1BepUd5.json': {'third': 1686, 'first': 467}, 'vwOCckem1Bx4Wa5.json': {'third': 484, 'first': 56}, 'WBF9qxjj1zMxmP5.json': {'third': 0, 'first': 257}, 'wQI7l8os1BAOrU5.json': {'third': 128, 'first': 139}, 'RhomxVAg1BKCXM5.json': {'third': 0, 'first': 4}, 'ANuFI3wm1BM9C75.json': {'third': 0, 'first': 3}, 'rEU5SXr61ALxuB5.json': {'third': 225, 'first': 241}, 'GBe4DTe41BcyK15.json': {'third': 10, 'first': 5}, 'R6JfH8ck1BJeZx2.json': {'third': 4, 'first': 22}, 'QsamkhX91BHXR75.json': {'third': 0, 'first': 11}, 'Vw1nFgNH1BCHSx5.json': {'third': 348, 'first': 122}, 'vzWrKtkn1BrlWj5.json': {'third': 221, 'first': 47}, 'W60qLLKS1AlFeR5.json': {'third': 2419, 'first': 110}, 'RleTQ9pG1A88GT5.json': {'third': 0, 'first': 2}, 'ZuWjcESU1BoR9S5.json': {'third': 1, 'first': 0}, 'WveDTDYo1B7fzq5.json': {'third': 238, 'first': 65}, 'vWX6noiG1BMNep5.json': {'third': 0, 'first': 2}, 'RFWrTlYu1zXk9c5.json': {'third': 594, 'first': 25}, 'B54jhdRr1BrnBO5.json': {'third': 396, 'first': 67}, 'BsEiZ9y61B4gjI5.json': {'third': 2780, 'first': 143}, 'gAzm2a8S1BIxC05.json': {'third': 0, 'first': 13}, 'AjnCxTwv1BMutG2.json': {'third': 0, 'first': 4}, 'AAOnpE891BhSM45.json': {'third': 500, 'first': 178}, 'ACE6wrft1AqkzU5.json': {'third': 1, 'first': 1}, 'vYjpJILa1BMwNp5.json': {'third': 0, 'first': 21}, 'Aa8F01bG1zEVca5.json': {'third': 1538, 'first': 360}, 'zRZbEMBH1BAQxr5.json': {'third': 262, 'first': 173}, 'vqNPYjndiO2K4NcidiUcuMIcTY2nTKZ8.json': {'third': 51, 'first': 162}, 'Vx65yIWz1BHSx95.json': {'third': 0, 'first': 3}, 'WFIVJEud1B662x5.json': {'third': 3, 'first': 180}, 'RsXwvljm1AhLad2.json': {'third': 356, 'first': 171}, 'R9N9QzFO1B9Hqi5.json': {'third': 436, 'first': 194}, 'whGAIFTX1BtV3g2.json': {'third': 67, 'first': 75}, 'Q72ts3B41Bcuag5.json': {'third': 2347, 'first': 83}, 'VMvFV5X41A1SLj5.json': {'third': 0, 'first': 123}, 'zpxjpMNy1AuiYF2.json': {'third': 23, 'first': 70}, 'vTsqsqq41A0wIK5.json': {'third': 0, 'first': 16}, 'w4ShkB2G1BMma45.json': {'third': 6, 'first': 5}, 'VoXkSIU31AWwnb2.json': {'third': 1521, 'first': 226}, 'VQZjOCNu1BtJTI5.json': {'third': 367, 'first': 85}, 'AoMDTLDe1Bk5lD5.json': {'third': 700, 'first': 317}, 'BOaq3ZNo1AzLOR5.json': {'third': 1181, 'first': 272}, 'rcnd53uk1AbZg15.json': {'third': 1, 'first': 152}, 'QqfwcL4Y1Bnvm05.json': {'third': 749, 'first': 147}, 'w95QhHrT1B2h695.json': {'third': 1732, 'first': 223}, 'wvon4kVo1AqRn15.json': {'third': 0, 'first': 145}, 'wRzVn2RK1BuVe85.json': {'third': 1159, 'first': 77}, 'AAHWj5QN1BJ1ZP5.json': {'third': 0, 'first': 2}, 'WR2CYTVQ1BM2nn5.json': {'third': 409, 'first': 26}, 'AtGOWVZf1BLjrK2.json': {'third': 0, 'first': 5}, 'G0mjg96A1A4z1p5.json': {'third': 0, 'first': 60}, 'RhE0MivB1Bsay25.json': {'third': 613, 'first': 62}, 'VWKu5RKy1BzphM5.json': {'third': 958, 'first': 119}, 'qu4Z0gyTXlYkt08UeQuM8Oleh50eFf8l.json': {'third': 0, 'first': 3}, 'zRm9pJQR1Bgem15.json': {'third': 73, 'first': 40}, 'BekLXUjv1AZJCO5.json': {'third': 0, 'first': 244}, 'rOiau9pJquU0YRpMYYR4ElY1ibePWz1p.json': {'third': 898, 'first': 179}, 'QY3ONjDv1BiPYt5.json': {'third': 1243, 'first': 120}, 'wUBFp9ND1B2O7H5.json': {'third': 330, 'first': 132}, 'rrLnHyNs1BKZUy5.json': {'third': 0, 'first': 7}, 'rHbhzx1oJMJMR7gd0J1hBxaMonADiig1.json': {'third': 0, 'first': 10}, 'QyrNpJ3c1BIsbm5.json': {'third': 8, 'first': 25}, 'WOjroE0w1BIUjY5.json': {'third': 0, 'first': 21}, 'ZMUX2W8V1BDDoB5.json': {'third': 1, 'first': 15}, 'vGQWymI81BDiCq5.json': {'third': 313, 'first': 151}, 'r4LsJesz1BEe8w5.json': {'third': 0, 'first': 0}, 'w77GpP1o1BJRKR5.json': {'third': 1, 'first': 6}, 'g3bmJ7hI1BMvIC2.json': {'third': 0, 'first': 1}, 'A2HkZPkn1BpvvG5.json': {'third': 0, 'first': 15}, 'zOv7t8T21BLJqo5.json': {'third': 1, 'first': 47}, 'Rn9dcjzH1AvoVa2.json': {'third': 0, 'first': 55}, 'zqDY7ZLG1BLmC52.json': {'third': 0, 'first': 7}, 'GCoEORZO1zWf3e5.json': {'third': 3, 'first': 272}, 'VMbt31ld1BBW6C5.json': {'third': 0, 'first': 2}, 'Wa8NlaxK1AGL8U5.json': {'third': 1189, 'first': 272}, 'rVanM4F31BMv2i5.json': {'third': 0, 'first': 2}, 'AnhmBX0Z1BMLcf5.json': {'third': 0, 'first': 3}, 'RSkEBmcm1BBigz5.json': {'third': 320, 'first': 92}, 'zvvJoBOU1BMxOp5.json': {'third': 0, 'first': 3}, 'qPDSnDTM1BMP4J5.json': {'third': 0, 'first': 1}, 'WonGkCh91BnqcG5.json': {'third': 3225, 'first': 236}, 'AzSGyFPG1BMaSb5.json': {'third': 0, 'first': 6}, 'wfwUF5Vd1BGFgr2.json': {'third': 4, 'first': 6}, 'wdwFQreo1BxzoU5.json': {'third': 14, 'first': 9}, 'VjSnHLtrZLAhNPcRurj6ExcbVAFFT3un.json': {'third': 0, 'first': 29}, 'WwmpHbh31BrHby5.json': {'third': 792, 'first': 44}, 'RtIoKu2C1zPlPC5.json': {'third': 404, 'first': 171}, 'rwHZJrqP1BI9WP5.json': {'third': 8, 'first': 16}, 'QwHk9b6V1AEqMH5.json': {'third': 0, 'first': 102}, 'QtkSTLCB1BIsFK5.json': {'third': 16, 'first': 8}, 'rtHMOVvr1Brs2u5.json': {'third': 0, 'first': 0}, 'A9UPpfah1BFECb5.json': {'third': 337, 'first': 88}, 'r11ejw1U1BKHr45.json': {'third': 0, 'first': 8}, 'zMUq28w21AGgwe2.json': {'third': 0, 'first': 12}, 'qwRTQ9Lj1Bpk3e5.json': {'third': 588, 'first': 274}, 'r15pEZTi1BMsyT5.json': {'third': 1, 'first': 3}, 'BKrmTGPK1BMn4W5.json': {'third': 0, 'first': 59}, 'WIqbzX441BMGml2.json': {'third': 0, 'first': 4}, 'wLE7dqFR1BJyqj5.json': {'third': 0, 'first': 16}, 'AHijfs1f1BLo1i2.json': {'third': 19, 'first': 8}, 'AMzoHgJo1zzHp05.json': {'third': 2692, 'first': 240}, 'BF0LwNhC1BekAq2.json': {'third': 0, 'first': 44}, 'qaYSpRdq1BqDGF5.json': {'third': 444, 'first': 26}, 'WrT0B30t1BqF6r5.json': {'third': 0, 'first': 146}, 'RukXNrFv1BLPIq2.json': {'third': 35, 'first': 9}, 'REi64X7d1AGFnF2.json': {'third': 15, 'first': 190}, 'WbkqlfzJ1BDsW85.json': {'third': 7, 'first': 19}, 'vsnTQP1D1ATjpF5.json': {'third': 4, 'first': 56}, 'g1DPeDI11BHOyi5.json': {'third': 0, 'first': 9}, 'Wa8QvwxH1A8S625.json': {'third': 321, 'first': 64}, 'WgbmO06X1BLNmL5.json': {'third': 0, 'first': 6}, 'QP655HOF1B4tPp5.json': {'third': 1794, 'first': 323}, 'VV9OvM4I1AsX142.json': {'third': 0, 'first': 4}, 'ZVk66FW11APmqN5.json': {'third': 665, 'first': 447}, 'rQ9QWdAT1BMwRx5.json': {'third': 9, 'first': 3}, 'vLZKER2W1BGfzD5.json': {'third': 563, 'first': 144}, 'VLxuMKFn1BhKf05.json': {'third': 263, 'first': 190}, 'A919aKwiqnBd0plwT3izfU0NhGRKnX6z.json': {'third': 0, 'first': 1}, 'wIrXHBfp1BMjAd2.json': {'third': 0, 'first': 1}, 'wieTWpLx1BGiWu5.json': {'third': 0, 'first': 8}, 'VNyyIVf41Bh3co5.json': {'third': 1742, 'first': 284}, 'wsRAmm5Q1AnPvH5.json': {'third': 47, 'first': 62}, 'zQqUOg6d1BMGwi2.json': {'third': 0, 'first': 1}, 'wWVrBJXs1BL6uj5.json': {'third': 0, 'first': 3}, 'BbsEjJhY1A9y6x5.json': {'third': 0, 'first': 102}, 'rA0KtS0J1AMmTw5.json': {'third': 597, 'first': 222}, 'W9GfOapB1BKu0w5.json': {'third': 14, 'first': 6}, 'whwERCRP1BH0GW5.json': {'third': 0, 'first': 0}, 'B6MHb4ZP1BDFEq5.json': {'third': 0, 'first': 15}, 'WQF1MwHu1ATDnk5.json': {'third': 1408, 'first': 317}, 'wBzl56oc1zrvEo5.json': {'third': 0, 'first': 252}, 'B6ohYGtm1ByFOI5.json': {'third': 917, 'first': 146}, 'WpUidKQk1BKIT25.json': {'third': 13, 'first': 8}, 'wH0dlIPZ1BHO4P5.json': {'third': 0, 'first': 15}, 'wIVBvcOM1AOKvM5.json': {'third': 26, 'first': 251}, 'A1Fxs5Ag1A8vuB5.json': {'third': 1246, 'first': 91}, 'RobjHrno1BFwTD2.json': {'third': 46, 'first': 18}, 'vWeMud5V1BMyma2.json': {'third': 0, 'first': 1}, 'rG73nibf1B7xmG5.json': {'third': 158, 'first': 61}, 'BovGXCnr1Bti305.json': {'third': 835, 'first': 107}, 'WsuP1cFn1BJYGv5.json': {'third': 1, 'first': 5}, 'wY9oOKXC1BwSVl5.json': {'third': 89, 'first': 14}, 'R98b5Mzr1Bi1nb5.json': {'third': 837, 'first': 336}, 'w7NDdFH01zvseu5.json': {'third': 0, 'first': 102}, 'RHXQIJOF1BuJi95.json': {'third': 55, 'first': 20}, 'RuCdPh3Q1BDcGL5.json': {'third': 0, 'first': 0}, 'AcE7drxWsXOMPTMvKGWXlKq9ssEDqX1M.json': {'third': 20, 'first': 227}, 'wDUfmZCt1BwtXl5.json': {'third': 135, 'first': 23}, 'wtxAI8301BJFCm5.json': {'third': 3, 'first': 5}, 'vVWPb3qX1BhW3b5.json': {'third': 491, 'first': 80}, 'RcTSaSAYAkEeGrLD8tj0JQ7SoRC4jsJN.json': {'third': 0, 'first': 19}, 'rpoqhaolyyD7lTxShcyD7NMhFnK2nbDE.json': {'third': 0, 'first': 290}, 'BtHxPRga1zV8Ci5.json': {'third': 2139, 'first': 206}, 'Wd1tsjPR1Bx8Nr5.json': {'third': 491, 'first': 127}, 'VUOAvH5I1BMkFH2.json': {'third': 0, 'first': 1}, 'viYLTDxE1B9AUu5.json': {'third': 116, 'first': 81}, 'AUqXVIJz1BhjHj5.json': {'third': 0, 'first': 1}, 'vIZvughTQ6aIGGO09Ux1FfsvIAwvFLen.json': {'third': 0, 'first': 92}, 'Qrd4002a1BCbrm5.json': {'third': 259, 'first': 30}, 'Vq2C9u0u1BsbPF5.json': {'third': 598, 'first': 116}, 'WPNfMlAs1BMu8S5.json': {'third': 0, 'first': 4}, 'R6oQa2GG1BMMM95.json': {'third': 0, 'first': 1}, 'wacZlqNh1Bl5FW5.json': {'third': 531, 'first': 111}, 'Gcrvfihv1BMwXG2.json': {'third': 0, 'first': 1}, 'rvTjjoAm1AJTZx5.json': {'third': 468, 'first': 47}, 'R7Jr48Oy1BMxAO5.json': {'third': 17, 'first': 35}, 'g9nTxgPQ1BMwk92.json': {'third': 0, 'first': 4}, 'vk1WhQROOaoy4ZALy7opLpEZhWC1GxgS.json': {'third': 14, 'first': 298}, 'FZRY65XU1A405M5.json': {'third': 773, 'first': 415}, 'rLi53H881BAlra5.json': {'third': 5, 'first': 4}, 'g53MTe0i1BFwWn5.json': {'third': 0, 'first': 0}, 'rlAi8wN93hgezmuFnwKSvvbpJbBJH4CY.json': {'third': 727, 'first': 166}, 'B1fkWU4B1BnJpi5.json': {'third': 0, 'first': 45}, 'A2VNCBDc1BI1q65.json': {'third': 0, 'first': 6}, 'AAD2VmOH1BMwW12.json': {'third': 0, 'first': 1}, 'Vx5uIXgV1BFWKp5.json': {'third': 3, 'first': 11}, 'g3w9AsiW1BM7w32.json': {'third': 0, 'first': 1}, 'A5xOTqVS1Amd7F5.json': {'third': 1574, 'first': 339}, 'RKRK1Pte1BwXnT5.json': {'third': 237, 'first': 13}, 'Zp1j3ZGn1AVxHA5.json': {'third': 27, 'first': 215}, 'rQfQle9t1BMoDh2.json': {'third': 0, 'first': 4}, 'FztYhncS1BMubM5.json': {'third': 0, 'first': 4}, 'rcJDu64e1BAcO22.json': {'third': 0, 'first': 5}, 'VxSB0MwO1BB4WY5.json': {'third': 415, 'first': 267}, 'rnegUVaP1Be3NF5.json': {'third': 0, 'first': 220}, 'W5drVVBv1BMlj55.json': {'third': 0, 'first': 10}, 'fzCWCwa81AhApU5.json': {'third': 0, 'first': 0}, 'AJHEkzfW1Adc5x5.json': {'third': 0, 'first': 2}, 'Qae5k9IB1AiPtx5.json': {'third': 4, 'first': 1}, 'VYo5NcHa1AfU705.json': {'third': 0, 'first': 30}, 'rnIaTwvt1BLkQl5.json': {'third': 20, 'first': 13}, 'VRzQ2Owo1BByll5.json': {'third': 1510, 'first': 158}, 'vs7Q55Ab1BD9Go5.json': {'third': 31, 'first': 6}, 'AMrlahXF1BdClC2.json': {'third': 2184, 'first': 63}, 'g7cdiFT01BMybI2.json': {'third': 0, 'first': 2}, 'WdJonOel1AFpUv5.json': {'third': 0, 'first': 6}, 'R0bRPwwc1Bj8SG5.json': {'third': 0, 'first': 192}, 'gcyyGodc1AO2J15.json': {'third': 2191, 'first': 322}, 'A3j6Sjuz1BMMV82.json': {'third': 0, 'first': 1}, 'RtSjLEjv1BMoXq2.json': {'third': 0, 'first': 4}, 'RhcAKh6i1BGUGA5.json': {'third': 12, 'first': 22}, 'rbDl0jv21BFF9P5.json': {'third': 0, 'first': 10}, 'W7i1uW5C1A4HUY5.json': {'third': 3165, 'first': 182}, 'rGbkm76421xRPvwBWd1dbspgVUoOj8jK.json': {'third': 0, 'first': 117}, 'VLGY20Zs1BGvV45.json': {'third': 1, 'first': 74}, 'WjAgUPNa1BJEhq2.json': {'third': 0, 'first': 6}, 'ztA3NtIV1B7kYc5.json': {'third': 0, 'first': 1}, 'RgL8LXyb1BuAUy5.json': {'third': 145, 'first': 81}, 'wd36an0f1B1YiW5.json': {'third': 371, 'first': 377}, 'ZuCGqtX51BMmqF5.json': {'third': 1, 'first': 10}, 'rn01nShC1BMtzG5.json': {'third': 0, 'first': 7}, 'Wg2QUY1s1BasoP5.json': {'third': 163, 'first': 20}, 'WIs5P3Eg1AWVbn5.json': {'third': 0, 'first': 170}, 'R75QcDlk1BMIuC5.json': {'third': 3, 'first': 8}, 'vrZ9dXXP1BtO5w5.json': {'third': 1135, 'first': 198}, 'g6uTAWNA1ANb2d5.json': {'third': 0, 'first': 5}, 'A2Dsv7RE1BDqYt5.json': {'third': 27, 'first': 121}, 'rvFrQSud1Bairy5.json': {'third': 0, 'first': 1}, 'QsAVgeiL1BDh2G5.json': {'third': 23, 'first': 32}, 'g6rJPqKY1BDDhM5.json': {'third': 33, 'first': 64}, 'rUMLvvEj1BEy012.json': {'third': 0, 'first': 9}, 'VSUBQqJf1BLDUq5.json': {'third': 491, 'first': 9}, 'q8TVfU1W1BDHfh2.json': {'third': 127, 'first': 46}, 'G1HUFiGX1BkPEc5.json': {'third': 15, 'first': 14}, 'ZQfaSO5n1BpdMa5.json': {'third': 26, 'first': 32}, 'rhUZigaH1BKFi75.json': {'third': 0, 'first': 4}, 'zTOvpRaL1BM6na2.json': {'third': 0, 'first': 1}, 'vnxWp3r31Bx3rL5.json': {'third': 113, 'first': 104}, 'zR79p05c1BMObJ2.json': {'third': 0, 'first': 3}, 'qunhQRw41BMqRD2.json': {'third': 0, 'first': 1}, 'WB4RF8C21B8fCc5.json': {'third': 896, 'first': 186}, 'Bpk3BPmD1BLmwF5.json': {'third': 0, 'first': 6}, 'qrj7e1w01BovOU5.json': {'third': 697, 'first': 117}, 'VgYBf4X11BMO2e2.json': {'third': 0, 'first': 1}, 'vVeRRq9Q1BwxQq5.json': {'third': 64, 'first': 44}, 'ZvCOSJMp1BtQEp5.json': {'third': 6, 'first': 83}, 'rKeUzrwj1ByL3k5.json': {'third': 0, 'first': 8}, 'qrQOHyoQ1zFyYL5.json': {'third': 0, 'first': 154}, 'wRUHJZlg1BsVnT5.json': {'third': 496, 'first': 47}, 'rP7XoEXx1BLs865.json': {'third': 23, 'first': 1}, 'AnQ6ESQ61Aoc4F5.json': {'third': 1231, 'first': 223}, 'zNXXGHKF1AKoO65.json': {'third': 0, 'first': 46}, 'RFAfKOJZ1A5o0D5.json': {'third': 0, 'first': 367}, 'ZUzm137k1BEKiG5.json': {'third': 0, 'first': 0}, 'ga4nrcT71BMrLz5.json': {'third': 0, 'first': 4}, 'wUIZUK8R1BMDBs2.json': {'third': 0, 'first': 1}, 'whSyMF5Q1BMtRU5.json': {'third': 0, 'first': 1}, 'AtRPmo9f1BJSDf5.json': {'third': 0, 'first': 11}, 'ADMEUt2D1BMGwN2.json': {'third': 0, 'first': 1}, 'VmTJWZu51BkPlR5.json': {'third': 1655, 'first': 193}, 'Q4nwk3Gh1BKCS45.json': {'third': 0, 'first': 4}, 'r1MezVIf1Bhxrt6.json': {'third': 560, 'first': 184}, 'Q8YghwIE1BH49S5.json': {'third': 56, 'first': 4}, 'Q9QRGy391BtQIQ5.json': {'third': 745, 'first': 29}, 'weVqUCw31BGWoq5.json': {'third': 0, 'first': 0}, 'VGPfVlzt1BIHmY2.json': {'third': 0, 'first': 13}, 'RIncB32I1BMoqi5.json': {'third': 0, 'first': 5}, 'RrpHRhiE1Bv2mL5.json': {'third': 176, 'first': 35}, 'AlGylYZ91B9UaK5.json': {'third': 0, 'first': 3}, 'VtkRv2V91BM9rd5.json': {'third': 0, 'first': 1}, 'qakOLREM1BLXoM5.json': {'third': 0, 'first': 1}, 'vwZGeczL1BqGIi5.json': {'third': 89, 'first': 73}, 'ReKxr3i91AUv6d5.json': {'third': 0, 'first': 1}, 'zVqPkcZi1BMlvA5.json': {'third': 0, 'first': 37}, 'RB3emS9P1BM9Xg2.json': {'third': 9, 'first': 14}, 'zUfMQSu71B38jo5.json': {'third': 1093, 'first': 319}, 'vjukd8Ep1ANQXJ5.json': {'third': 42, 'first': 116}, 'WHx2cVDj1BtDPT5.json': {'third': 625, 'first': 202}, 'W28d25LL1BMOr72.json': {'third': 0, 'first': 1}, 'zPZbXMqN1zXgie5.json': {'third': 174, 'first': 221}, 'zsn3Uw621AMTK95.json': {'third': 385, 'first': 151}, 'RkKb0PjT1zMWgW5.json': {'third': 712, 'first': 96}, 'vxT6WyhM1BLtE95.json': {'third': 0, 'first': 2}, 'W3lKJpRu1AdvrA5.json': {'third': 1357, 'first': 200}, 'Wy4dICb81zTjZi2.json': {'third': 0, 'first': 26}, 'Q354qrDS1Btal05.json': {'third': 566, 'first': 244}, 'rpmRdl6r1BqIhj5.json': {'third': 125, 'first': 7}, 'vlpdSh6i1AOXUa5.json': {'third': 1, 'first': 266}, 'Qq0WtvWw1B7qmC5.json': {'third': 3896, 'first': 390}, 'RVRSFBBd1BnvBc5.json': {'third': 988, 'first': 66}, 'gcqe285I1BwxeK5.json': {'third': 798, 'first': 73}, 'r4qhc4lZ1BLHR15.json': {'third': 21, 'first': 1}, 'RFm7ejJ61BoSl85.json': {'third': 1033, 'first': 313}, 'Aig7jcGk1BqoTb5.json': {'third': 1631, 'first': 166}, 'B9JmSTEk1BI70R5.json': {'third': 0, 'first': 10}, 'G1dhvwTI1B45yf5.json': {'third': 1, 'first': 122}, 'wQDXIFZS1BJTRU5.json': {'third': 7, 'first': 39}, 'g58fMEEi1BBMGY5.json': {'third': 0, 'first': 7}, 'BlgoDTTL1BLp075.json': {'third': 0, 'first': 4}, 'Waq4rojO1B6ME25.json': {'third': 0, 'first': 0}, 'r8MYOFW11zEzdd5.json': {'third': 5, 'first': 165}, 'RLbeoM011BCnDo5.json': {'third': 151, 'first': 19}, 'vNGkqbXk1BMKjd2.json': {'third': 0, 'first': 1}, 'ALis2oIu1BMo275.json': {'third': 0, 'first': 1}, 'g9nxwxLF1BF5WL2.json': {'third': 48, 'first': 46}, 'R0hAO3n41BCIGv5.json': {'third': 0, 'first': 4}, 'BdygLYWF1AIUmH5.json': {'third': 1336, 'first': 295}, 'wozRbewM1AI7pc5.json': {'third': 1713, 'first': 308}, 'QRkstXPN1zG1fk5.json': {'third': 2807, 'first': 440}, 'r5X6ciY71BlHC32.json': {'third': 162, 'first': 144}, 'rcAqwEm51AQwSN5.json': {'third': 378, 'first': 180}, 'VPSaAVrM1zYUyh5.json': {'third': 0, 'first': 2}, 'vjljAxZ41BqE2f5.json': {'third': 761, 'first': 246}, 'Be8W8wmK1AoryF5.json': {'third': 0, 'first': 92}, 'APlqXoMg1AcwZy5.json': {'third': 100, 'first': 29}, 'q06QaaY91BMmUf5.json': {'third': 0, 'first': 3}, 'RC0bR5hm1BFfsh5.json': {'third': 0, 'first': 11}, 'ZSkS0bmT1Bz6x15.json': {'third': 947, 'first': 4}, 'wd4FSvBJ1BBNUK5.json': {'third': 1042, 'first': 81}, 'QuwOnkyK1AqLRV2.json': {'third': 6, 'first': 5}, 'wpgBplTJ1BMORX2.json': {'third': 0, 'first': 3}, 'WpzmtuPo1BMkfk2.json': {'third': 0, 'first': 4}, 'qZfpYTat1BIKg85.json': {'third': 0, 'first': 19}, 'r4hGmDUM1Burdg5.json': {'third': 475, 'first': 238}, 'W9k6BiC31ASY4T5.json': {'third': 575, 'first': 206}, 'R9cDiCOn1BLdgf5.json': {'third': 0, 'first': 3}, 'rQ0RjFZC1BGkTb5.json': {'third': 239, 'first': 145}, 'RF4aLnyy1Bq4qB5.json': {'third': 457, 'first': 71}, 'wDEvuCsE1BJ3Nv5.json': {'third': 0, 'first': 10}, 'rj7uNpUo1AYptb5.json': {'third': 53, 'first': 185}, 'qPntkVP71BMOPB5.json': {'third': 1, 'first': 5}, 'w0BGAqao1BpALl5.json': {'third': 57, 'first': 98}, 'BQYVihQz1BFwt25.json': {'third': 0, 'first': 18}, 'Bevic89q1BI78c5.json': {'third': 8, 'first': 3}, 'wImEdd0O1BM6ye2.json': {'third': 0, 'first': 1}, 'wBKcC9HI1Apdos2.json': {'third': 0, 'first': 5}, 'VtbhaDJP1BMqzC2.json': {'third': 0, 'first': 1}, 'w1tPRHpW1BehxZ5.json': {'third': 3306, 'first': 342}, 'WYfi2sfz1A8F6a5.json': {'third': 0, 'first': 1}, 'qb5rCu9u1BMOZl2.json': {'third': 0, 'first': 1}, 'w4jMcxUX1B9DiP5.json': {'third': 1, 'first': 2}, 'WWl2ALx51AmKnl5.json': {'third': 120, 'first': 88}, 'QAafxXTl1BM9hD5.json': {'third': 0, 'first': 5}, 'VVQ6gUGL1BM8Lm5.json': {'third': 0, 'first': 4}, 'wo4ji8p11BE3l25.json': {'third': 221, 'first': 25}, 'VXHWYz8a1AB7WM2.json': {'third': 0, 'first': 112}, 'RTXwl3iw1BpZsY5.json': {'third': 93, 'first': 117}, 'wSjAjT5c1BxECT5.json': {'third': 464, 'first': 100}, 'vJHTYrfm1AOdVd2.json': {'third': 121, 'first': 19}, 'vkbVIIwp1BMKC22.json': {'third': 1, 'first': 3}, 'AY9GdOjk1ztGOt5.json': {'third': 0, 'first': 1}, 'BdKcsiu41BxtBr5.json': {'third': 324, 'first': 74}, 'g7ZYJoVZ1Biklu5.json': {'third': 530, 'first': 140}, 'G1MIBSBH1ByC2u5.json': {'third': 8, 'first': 14}, 'AKQDTy341AYLky5.json': {'third': 0, 'first': 5}, 'wr3T0KE61zvtuZ5.json': {'third': 0, 'first': 202}, 'FZua0Uxl1BMOYm2.json': {'third': 0, 'first': 1}, 'qrChX24k1BHqlv5.json': {'third': 34, 'first': 28}}\n"
     ]
    }
   ],
   "source": [
    "segmentUid = {}                                              # make an empty dict\n",
    "\n",
    "path = 'jsons/'\n",
    "files = os.listdir(path)\n",
    "\n",
    "for i in (files):\n",
    "    \n",
    "    if i=='.DS_Store':\n",
    "        continue\n",
    "        \n",
    "        \n",
    "    else: \n",
    "        with open('jsons/'+str(i)) as json_data:\n",
    "            d = json.load(json_data)\n",
    "            if 'User Not Found' in d.values():                    #do not go through files with 'UserNotFound'\n",
    "                continue\n",
    "            elif d.has_key('retargetingSegments'):                #if the file has key 'retargetingSegments'\n",
    "                segmentUid.setdefault(i,{'first':0, 'third':0})   #add it to the dict\n",
    "                for j in d['retargetingSegments']:                #the value of 'retargetingSegments' is a list\n",
    "                    if j['segmentUid'][0]=='0':                   #of dictionaries. if the value of 'segmentUid'\n",
    "                        segmentUid[i]['first']+=1                 #starts with 0, add 1 to 'first'\n",
    "                    else:                                         \n",
    "                        segmentUid[i]['third']+=1                 #if it starts with 1, add one to 'thirs'\n",
    "print segmentUid"
   ]
  },
  {
   "cell_type": "code",
   "execution_count": null,
   "metadata": {
    "collapsed": true
   },
   "outputs": [],
   "source": []
  }
 ],
 "metadata": {
  "kernelspec": {
   "display_name": "Python [Root]",
   "language": "python",
   "name": "Python [Root]"
  },
  "language_info": {
   "codemirror_mode": {
    "name": "ipython",
    "version": 2
   },
   "file_extension": ".py",
   "mimetype": "text/x-python",
   "name": "python",
   "nbconvert_exporter": "python",
   "pygments_lexer": "ipython2",
   "version": "2.7.12"
  }
 },
 "nbformat": 4,
 "nbformat_minor": 0
}
