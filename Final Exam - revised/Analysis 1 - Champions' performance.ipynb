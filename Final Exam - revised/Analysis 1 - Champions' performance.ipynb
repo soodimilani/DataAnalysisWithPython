{
 "cells": [
  {
   "cell_type": "markdown",
   "metadata": {},
   "source": [
    "# Analysis 1 : Champions' performance"
   ]
  },
  {
   "cell_type": "code",
   "execution_count": 1,
   "metadata": {
    "collapsed": false
   },
   "outputs": [
    {
     "name": "stdout",
     "output_type": "stream",
     "text": [
      "Populating the interactive namespace from numpy and matplotlib\n"
     ]
    },
    {
     "name": "stderr",
     "output_type": "stream",
     "text": [
      "WARNING: pylab import has clobbered these variables: ['datetime']\n",
      "`%matplotlib` prevents importing * from pylab and numpy\n"
     ]
    }
   ],
   "source": [
    "import pandas as pd\n",
    "import numpy as np\n",
    "import json\n",
    "from collections import Counter\n",
    "import operator\n",
    "from ast import literal_eval\n",
    "from datetime import datetime\n",
    "import seaborn as sns\n",
    "import matplotlib.pyplot as plt\n",
    "from mpl_toolkits.basemap import Basemap\n",
    "%pylab inline\n",
    "import httplib\n"
   ]
  },
  {
   "cell_type": "code",
   "execution_count": 2,
   "metadata": {
    "collapsed": true
   },
   "outputs": [],
   "source": [
    "data = pd.read_csv('./data/2002-2012-EPL.csv')"
   ]
  },
  {
   "cell_type": "code",
   "execution_count": 3,
   "metadata": {
    "collapsed": true
   },
   "outputs": [],
   "source": [
    "#Make a dictioary of the numbers of wins, losses, and draws for each team at each season.\n",
    "\n",
    "\n",
    "team_W_L_D_dict = {}\n",
    "\n",
    "for i in range(len(data)):\n",
    "    \n",
    "    team_W_L_D_dict.setdefault(data.season[i],{})\n",
    "    team_W_L_D_dict[data.season[i]][data.home_team[i]] = {'W':0,'L':0,'D':0}"
   ]
  },
  {
   "cell_type": "code",
   "execution_count": 4,
   "metadata": {
    "collapsed": true
   },
   "outputs": [],
   "source": [
    "for i in range(len(data)):\n",
    "    \n",
    "    # going through the data, check if home_team scored more or less or equal to the away_team.\n",
    "    \n",
    "    if data.home_score[i] > data.away_score[i]:\n",
    "        team_W_L_D_dict[data.season[i]][data.home_team[i]]['W'] += 1\n",
    "        team_W_L_D_dict[data.season[i]][data.away_team[i]]['L'] += 1\n",
    "        \n",
    "        \n",
    "        \n",
    "    if data.home_score[i] < data.away_score[i]:\n",
    "        team_W_L_D_dict[data.season[i]][data.home_team[i]]['L'] += 1\n",
    "        team_W_L_D_dict[data.season[i]][data.away_team[i]]['W'] += 1\n",
    "        \n",
    "    if data.home_score[i] == data.away_score[i]:\n",
    "        team_W_L_D_dict[data.season[i]][data.home_team[i]]['D'] += 1\n",
    "        team_W_L_D_dict[data.season[i]][data.away_team[i]]['D'] += 1"
   ]
  },
  {
   "cell_type": "code",
   "execution_count": 40,
   "metadata": {
    "collapsed": false
   },
   "outputs": [],
   "source": [
    "# save the dictionary in a json format.\n",
    "\n",
    "with open('./data/team_W_L_D_dict.json', 'w') as outfile:\n",
    "    json.dump(team_W_L_D_dict, outfile)"
   ]
  },
  {
   "cell_type": "code",
   "execution_count": 11,
   "metadata": {
    "collapsed": false
   },
   "outputs": [],
   "source": [
    "# Save the result in a csv file.\n",
    "\n",
    "team_W_L_D =  pd.DataFrame(columns = ['season','team','W','D','L'], \n",
    "                          index = np.arange(0,len(data.season.unique())*len(data.home_team.unique()),1))\n",
    "\n",
    "c = 0\n",
    "\n",
    "for i in sorted(team_W_L_D_dict.keys()):\n",
    "    for j in team_W_L_D_dict[i]:\n",
    "        team_W_L_D.season[c] = i\n",
    "        team_W_L_D.team[c] = j\n",
    "        team_W_L_D.W[c] = team_W_L_D_dict[i][j]['W']\n",
    "        team_W_L_D.D[c] = team_W_L_D_dict[i][j]['D']\n",
    "        team_W_L_D.L[c] = team_W_L_D_dict[i][j]['L']\n",
    "        c+=1\n",
    "        \n",
    "team_W_L_D.to_csv('./data/season_team_W_L_D.csv')"
   ]
  },
  {
   "cell_type": "code",
   "execution_count": 12,
   "metadata": {
    "collapsed": false
   },
   "outputs": [
    {
     "data": {
      "text/html": [
       "<div>\n",
       "<table border=\"1\" class=\"dataframe\">\n",
       "  <thead>\n",
       "    <tr style=\"text-align: right;\">\n",
       "      <th></th>\n",
       "      <th>season</th>\n",
       "      <th>team</th>\n",
       "      <th>W</th>\n",
       "      <th>D</th>\n",
       "      <th>L</th>\n",
       "    </tr>\n",
       "  </thead>\n",
       "  <tbody>\n",
       "    <tr>\n",
       "      <th>0</th>\n",
       "      <td>2001-2002</td>\n",
       "      <td>Charlton Athletic</td>\n",
       "      <td>10</td>\n",
       "      <td>14</td>\n",
       "      <td>14</td>\n",
       "    </tr>\n",
       "    <tr>\n",
       "      <th>1</th>\n",
       "      <td>2001-2002</td>\n",
       "      <td>Southampton</td>\n",
       "      <td>12</td>\n",
       "      <td>9</td>\n",
       "      <td>17</td>\n",
       "    </tr>\n",
       "    <tr>\n",
       "      <th>2</th>\n",
       "      <td>2001-2002</td>\n",
       "      <td>Manchester United</td>\n",
       "      <td>24</td>\n",
       "      <td>5</td>\n",
       "      <td>9</td>\n",
       "    </tr>\n",
       "    <tr>\n",
       "      <th>3</th>\n",
       "      <td>2001-2002</td>\n",
       "      <td>Liverpool</td>\n",
       "      <td>24</td>\n",
       "      <td>8</td>\n",
       "      <td>6</td>\n",
       "    </tr>\n",
       "    <tr>\n",
       "      <th>4</th>\n",
       "      <td>2001-2002</td>\n",
       "      <td>Ipswich Town</td>\n",
       "      <td>9</td>\n",
       "      <td>9</td>\n",
       "      <td>20</td>\n",
       "    </tr>\n",
       "  </tbody>\n",
       "</table>\n",
       "</div>"
      ],
      "text/plain": [
       "      season               team   W   D   L\n",
       "0  2001-2002  Charlton Athletic  10  14  14\n",
       "1  2001-2002        Southampton  12   9  17\n",
       "2  2001-2002  Manchester United  24   5   9\n",
       "3  2001-2002          Liverpool  24   8   6\n",
       "4  2001-2002       Ipswich Town   9   9  20"
      ]
     },
     "execution_count": 12,
     "metadata": {},
     "output_type": "execute_result"
    }
   ],
   "source": [
    "team_W_L_D.head()"
   ]
  },
  {
   "cell_type": "code",
   "execution_count": 14,
   "metadata": {
    "collapsed": true
   },
   "outputs": [],
   "source": [
    "# Using the dictionary above, we can compute the points each team collected. We also keep track of the \n",
    "# goal difference in case of any tie in the points, so we can rank the team correctly.\n",
    "\n",
    "points = {}\n",
    "\n",
    "for i in range(len(data)):\n",
    "    \n",
    "    points.setdefault(data.season[i],{})\n",
    "    points[data.season[i]][data.home_team[i]] = {'pt':0,'dg':0}\n",
    "\n",
    "\n",
    "for i in points:\n",
    "    \n",
    "    for j in points[i]:\n",
    "        \n",
    "        points[i][j]['pt'] = 3*(team_W_L_D_dict[i][j]['W']) + (team_W_L_D_dict[i][j]['D'])\n",
    "        \n",
    "        \n",
    "        temp = data[data.season == i]\n",
    "\n",
    "        temp1 = temp[temp.home_team == j]\n",
    "        dif_goal1 = temp1.home_score.sum()-temp1.away_score.sum()\n",
    "        \n",
    "        temp2 = temp[temp.away_team == j]\n",
    "        dif_goal2 = temp2.away_score.sum()-temp2.home_score.sum()\n",
    "        \n",
    "        dif_goal = dif_goal1+dif_goal2\n",
    "        \n",
    "        points[i][j]['dg'] = dif_goal\n",
    "        "
   ]
  },
  {
   "cell_type": "code",
   "execution_count": 41,
   "metadata": {
    "collapsed": true
   },
   "outputs": [],
   "source": [
    "# save the dictionary in a json format.\n",
    "\n",
    "with open('./data/points.json', 'w') as outfile:\n",
    "    json.dump(points, outfile)"
   ]
  },
  {
   "cell_type": "code",
   "execution_count": 15,
   "metadata": {
    "collapsed": true
   },
   "outputs": [],
   "source": [
    "# save the result in a csv format.\n",
    "\n",
    "season_team_point_difGoal =  pd.DataFrame(columns = ['season','team','pt','dg'], \n",
    "                          index = np.arange(0,len(data.season.unique())*len(data.home_team.unique()),1))\n",
    "\n",
    "c = 0\n",
    "for i in sorted(points.keys()):\n",
    "    for j in points[i]:\n",
    "        season_team_point_difGoal.season[c] = i\n",
    "        season_team_point_difGoal.team[c] = j\n",
    "        season_team_point_difGoal.pt[c] = points[i][j]['pt']\n",
    "        season_team_point_difGoal.dg[c] = points[i][j]['dg']\n",
    "        c+=1\n",
    "        \n",
    "season_team_point_difGoal.to_csv('./data/season_team_point_difGoal.csv')"
   ]
  },
  {
   "cell_type": "code",
   "execution_count": 16,
   "metadata": {
    "collapsed": false
   },
   "outputs": [
    {
     "data": {
      "text/html": [
       "<div>\n",
       "<table border=\"1\" class=\"dataframe\">\n",
       "  <thead>\n",
       "    <tr style=\"text-align: right;\">\n",
       "      <th></th>\n",
       "      <th>season</th>\n",
       "      <th>team</th>\n",
       "      <th>pt</th>\n",
       "      <th>dg</th>\n",
       "    </tr>\n",
       "  </thead>\n",
       "  <tbody>\n",
       "    <tr>\n",
       "      <th>0</th>\n",
       "      <td>2001-2002</td>\n",
       "      <td>Charlton Athletic</td>\n",
       "      <td>44</td>\n",
       "      <td>-11</td>\n",
       "    </tr>\n",
       "    <tr>\n",
       "      <th>1</th>\n",
       "      <td>2001-2002</td>\n",
       "      <td>Southampton</td>\n",
       "      <td>45</td>\n",
       "      <td>-8</td>\n",
       "    </tr>\n",
       "    <tr>\n",
       "      <th>2</th>\n",
       "      <td>2001-2002</td>\n",
       "      <td>Manchester United</td>\n",
       "      <td>77</td>\n",
       "      <td>42</td>\n",
       "    </tr>\n",
       "    <tr>\n",
       "      <th>3</th>\n",
       "      <td>2001-2002</td>\n",
       "      <td>Liverpool</td>\n",
       "      <td>80</td>\n",
       "      <td>37</td>\n",
       "    </tr>\n",
       "    <tr>\n",
       "      <th>4</th>\n",
       "      <td>2001-2002</td>\n",
       "      <td>Ipswich Town</td>\n",
       "      <td>36</td>\n",
       "      <td>-23</td>\n",
       "    </tr>\n",
       "  </tbody>\n",
       "</table>\n",
       "</div>"
      ],
      "text/plain": [
       "      season               team  pt   dg\n",
       "0  2001-2002  Charlton Athletic  44  -11\n",
       "1  2001-2002        Southampton  45   -8\n",
       "2  2001-2002  Manchester United  77   42\n",
       "3  2001-2002          Liverpool  80   37\n",
       "4  2001-2002       Ipswich Town  36  -23"
      ]
     },
     "execution_count": 16,
     "metadata": {},
     "output_type": "execute_result"
    }
   ],
   "source": [
    "season_team_point_difGoal.head()"
   ]
  },
  {
   "cell_type": "code",
   "execution_count": 18,
   "metadata": {
    "collapsed": true
   },
   "outputs": [],
   "source": [
    "# Now, we can find the ranking of teams in each season.\n",
    "\n",
    "season_table = {}\n",
    "\n",
    "for i in sorted(points.keys()):\n",
    "          \n",
    "    season_table.setdefault(i,[])\n",
    "\n",
    "    temp = points[i]\n",
    "    \n",
    "    dicts = [{k: v} for (k,v) in temp.items()]\n",
    "    dicts.sort(key=lambda d: (d.values()[0]['pt'], d.values()[0]['dg'],))\n",
    "    \n",
    "    season_table[i]=dicts"
   ]
  },
  {
   "cell_type": "code",
   "execution_count": 22,
   "metadata": {
    "collapsed": false
   },
   "outputs": [
    {
     "data": {
      "text/plain": [
       "{'2001-2002': [{'Leicester City': {'dg': -34L, 'pt': 28}},\n",
       "  {'Derby County': {'dg': -29L, 'pt': 30}},\n",
       "  {'Ipswich Town': {'dg': -23L, 'pt': 36}},\n",
       "  {'Sunderland': {'dg': -22L, 'pt': 40}},\n",
       "  {'Bolton Wanderers': {'dg': -18L, 'pt': 40}},\n",
       "  {'Everton': {'dg': -12L, 'pt': 43}},\n",
       "  {'Charlton Athletic': {'dg': -11L, 'pt': 44}},\n",
       "  {'Fulham': {'dg': -8L, 'pt': 44}},\n",
       "  {'Middlesboro': {'dg': -12L, 'pt': 45}},\n",
       "  {'Southampton': {'dg': -8L, 'pt': 45}},\n",
       "  {'Blackburn Rovers': {'dg': 3L, 'pt': 46}},\n",
       "  {'Tottenham Hotspur': {'dg': -4L, 'pt': 50}},\n",
       "  {'Aston Villa': {'dg': -1L, 'pt': 50}},\n",
       "  {'West Ham United': {'dg': -9L, 'pt': 53}},\n",
       "  {'Chelsea': {'dg': 28L, 'pt': 64}},\n",
       "  {'Leeds United': {'dg': 16L, 'pt': 66}},\n",
       "  {'Newcastle United': {'dg': 22L, 'pt': 71}},\n",
       "  {'Manchester United': {'dg': 42L, 'pt': 77}},\n",
       "  {'Liverpool': {'dg': 37L, 'pt': 80}},\n",
       "  {'Arsenal': {'dg': 43L, 'pt': 87}}],\n",
       " '2002-2003': [{'Sunderland': {'dg': -44L, 'pt': 19}},\n",
       "  {'West Bromwich Albion': {'dg': -36L, 'pt': 26}},\n",
       "  {'West Ham United': {'dg': -17L, 'pt': 42}},\n",
       "  {'Bolton Wanderers': {'dg': -10L, 'pt': 44}},\n",
       "  {'Aston Villa': {'dg': -5L, 'pt': 45}},\n",
       "  {'Leeds United': {'dg': 1L, 'pt': 47}},\n",
       "  {'Fulham': {'dg': -9L, 'pt': 48}},\n",
       "  {'Birmingham': {'dg': -8L, 'pt': 48}},\n",
       "  {'Charlton Athletic': {'dg': -11L, 'pt': 49}},\n",
       "  {'Middlesboro': {'dg': 4L, 'pt': 49}},\n",
       "  {'Tottenham Hotspur': {'dg': -11L, 'pt': 50}},\n",
       "  {'Manchester City': {'dg': -7L, 'pt': 51}},\n",
       "  {'Southampton': {'dg': -3L, 'pt': 52}},\n",
       "  {'Everton': {'dg': -1L, 'pt': 59}},\n",
       "  {'Blackburn Rovers': {'dg': 9L, 'pt': 60}},\n",
       "  {'Liverpool': {'dg': 20L, 'pt': 64}},\n",
       "  {'Chelsea': {'dg': 30L, 'pt': 67}},\n",
       "  {'Newcastle United': {'dg': 15L, 'pt': 69}},\n",
       "  {'Arsenal': {'dg': 43L, 'pt': 78}},\n",
       "  {'Manchester United': {'dg': 40L, 'pt': 83}}],\n",
       " '2003-2004': [{'Wolverhampton': {'dg': -39L, 'pt': 33}},\n",
       "  {'Leeds United': {'dg': -39L, 'pt': 33}},\n",
       "  {'Leicester City': {'dg': -17L, 'pt': 33}},\n",
       "  {'Everton': {'dg': -12L, 'pt': 39}},\n",
       "  {'Manchester City': {'dg': 1L, 'pt': 41}},\n",
       "  {'Blackburn Rovers': {'dg': -8L, 'pt': 44}},\n",
       "  {'Tottenham Hotspur': {'dg': -10L, 'pt': 45}},\n",
       "  {'Portsmouth': {'dg': -7L, 'pt': 45}},\n",
       "  {'Southampton': {'dg': -1L, 'pt': 47}},\n",
       "  {'Middlesboro': {'dg': -8L, 'pt': 48}},\n",
       "  {'Birmingham': {'dg': -5L, 'pt': 50}},\n",
       "  {'Fulham': {'dg': 6L, 'pt': 52}},\n",
       "  {'Bolton Wanderers': {'dg': -8L, 'pt': 53}},\n",
       "  {'Charlton Athletic': {'dg': 0L, 'pt': 53}},\n",
       "  {'Aston Villa': {'dg': 4L, 'pt': 56}},\n",
       "  {'Newcastle United': {'dg': 12L, 'pt': 56}},\n",
       "  {'Liverpool': {'dg': 18L, 'pt': 60}},\n",
       "  {'Manchester United': {'dg': 29L, 'pt': 75}},\n",
       "  {'Chelsea': {'dg': 37L, 'pt': 79}},\n",
       "  {'Arsenal': {'dg': 47L, 'pt': 90}}],\n",
       " '2004-2005': [{'Southampton': {'dg': -21L, 'pt': 32}},\n",
       "  {'Norwich City': {'dg': -35L, 'pt': 33}},\n",
       "  {'Crystal Palace': {'dg': -21L, 'pt': 33}},\n",
       "  {'West Bromwich Albion': {'dg': -25L, 'pt': 34}},\n",
       "  {'Portsmouth': {'dg': -16L, 'pt': 39}},\n",
       "  {'Blackburn Rovers': {'dg': -11L, 'pt': 42}},\n",
       "  {'Newcastle United': {'dg': -10L, 'pt': 44}},\n",
       "  {'Fulham': {'dg': -8L, 'pt': 44}},\n",
       "  {'Birmingham': {'dg': -6L, 'pt': 45}},\n",
       "  {'Charlton Athletic': {'dg': -16L, 'pt': 46}},\n",
       "  {'Aston Villa': {'dg': -7L, 'pt': 47}},\n",
       "  {'Tottenham Hotspur': {'dg': 6L, 'pt': 52}},\n",
       "  {'Manchester City': {'dg': 8L, 'pt': 52}},\n",
       "  {'Middlesboro': {'dg': 7L, 'pt': 55}},\n",
       "  {'Bolton Wanderers': {'dg': 5L, 'pt': 58}},\n",
       "  {'Liverpool': {'dg': 11L, 'pt': 58}},\n",
       "  {'Everton': {'dg': -1L, 'pt': 61}},\n",
       "  {'Manchester United': {'dg': 32L, 'pt': 77}},\n",
       "  {'Arsenal': {'dg': 51L, 'pt': 83}},\n",
       "  {'Chelsea': {'dg': 57L, 'pt': 95}}],\n",
       " '2005-2006': [{'Sunderland': {'dg': -43L, 'pt': 15}},\n",
       "  {'West Bromwich Albion': {'dg': -27L, 'pt': 30}},\n",
       "  {'Birmingham': {'dg': -22L, 'pt': 34}},\n",
       "  {'Portsmouth': {'dg': -25L, 'pt': 38}},\n",
       "  {'Aston Villa': {'dg': -13L, 'pt': 42}},\n",
       "  {'Manchester City': {'dg': -5L, 'pt': 43}},\n",
       "  {'Middlesboro': {'dg': -10L, 'pt': 45}},\n",
       "  {'Charlton Athletic': {'dg': -14L, 'pt': 47}},\n",
       "  {'Fulham': {'dg': -10L, 'pt': 48}},\n",
       "  {'Everton': {'dg': -15L, 'pt': 50}},\n",
       "  {'Wigan Athletic': {'dg': -7L, 'pt': 51}},\n",
       "  {'West Ham United': {'dg': -3L, 'pt': 55}},\n",
       "  {'Bolton Wanderers': {'dg': 8L, 'pt': 56}},\n",
       "  {'Newcastle United': {'dg': 5L, 'pt': 58}},\n",
       "  {'Blackburn Rovers': {'dg': 9L, 'pt': 63}},\n",
       "  {'Tottenham Hotspur': {'dg': 15L, 'pt': 65}},\n",
       "  {'Arsenal': {'dg': 37L, 'pt': 67}},\n",
       "  {'Liverpool': {'dg': 32L, 'pt': 82}},\n",
       "  {'Manchester United': {'dg': 38L, 'pt': 83}},\n",
       "  {'Chelsea': {'dg': 50L, 'pt': 91}}],\n",
       " '2006-2007': [{'Watford': {'dg': -30L, 'pt': 28}},\n",
       "  {'Charlton Athletic': {'dg': -26L, 'pt': 34}},\n",
       "  {'Sheffield United': {'dg': -23L, 'pt': 38}},\n",
       "  {'Wigan Athletic': {'dg': -22L, 'pt': 38}},\n",
       "  {'Fulham': {'dg': -22L, 'pt': 39}},\n",
       "  {'West Ham United': {'dg': -24L, 'pt': 41}},\n",
       "  {'Manchester City': {'dg': -15L, 'pt': 42}},\n",
       "  {'Newcastle United': {'dg': -9L, 'pt': 43}},\n",
       "  {'Middlesboro': {'dg': -5L, 'pt': 46}},\n",
       "  {'Aston Villa': {'dg': 2L, 'pt': 50}},\n",
       "  {'Blackburn Rovers': {'dg': -2L, 'pt': 52}},\n",
       "  {'Portsmouth': {'dg': 3L, 'pt': 54}},\n",
       "  {'Reading': {'dg': 5L, 'pt': 55}},\n",
       "  {'Bolton Wanderers': {'dg': -5L, 'pt': 56}},\n",
       "  {'Everton': {'dg': 16L, 'pt': 58}},\n",
       "  {'Tottenham Hotspur': {'dg': 3L, 'pt': 60}},\n",
       "  {'Arsenal': {'dg': 28L, 'pt': 68}},\n",
       "  {'Liverpool': {'dg': 30L, 'pt': 68}},\n",
       "  {'Chelsea': {'dg': 40L, 'pt': 83}},\n",
       "  {'Manchester United': {'dg': 56L, 'pt': 89}}],\n",
       " '2007-2008': [{'Derby County': {'dg': -69L, 'pt': 11}},\n",
       "  {'Birmingham': {'dg': -16L, 'pt': 35}},\n",
       "  {'Reading': {'dg': -25L, 'pt': 36}},\n",
       "  {'Fulham': {'dg': -22L, 'pt': 36}},\n",
       "  {'Bolton Wanderers': {'dg': -18L, 'pt': 37}},\n",
       "  {'Sunderland': {'dg': -23L, 'pt': 39}},\n",
       "  {'Wigan Athletic': {'dg': -17L, 'pt': 40}},\n",
       "  {'Middlesboro': {'dg': -10L, 'pt': 42}},\n",
       "  {'Newcastle United': {'dg': -20L, 'pt': 43}},\n",
       "  {'Tottenham Hotspur': {'dg': 5L, 'pt': 46}},\n",
       "  {'West Ham United': {'dg': -8L, 'pt': 49}},\n",
       "  {'Manchester City': {'dg': -8L, 'pt': 55}},\n",
       "  {'Portsmouth': {'dg': 8L, 'pt': 57}},\n",
       "  {'Blackburn Rovers': {'dg': 2L, 'pt': 58}},\n",
       "  {'Aston Villa': {'dg': 20L, 'pt': 60}},\n",
       "  {'Everton': {'dg': 22L, 'pt': 65}},\n",
       "  {'Liverpool': {'dg': 39L, 'pt': 76}},\n",
       "  {'Arsenal': {'dg': 43L, 'pt': 83}},\n",
       "  {'Chelsea': {'dg': 39L, 'pt': 85}},\n",
       "  {'Manchester United': {'dg': 58L, 'pt': 87}}],\n",
       " '2008-2009': [{'West Bromwich Albion': {'dg': -31L, 'pt': 32}},\n",
       "  {'Middlesboro': {'dg': -29L, 'pt': 32}},\n",
       "  {'Newcastle United': {'dg': -19L, 'pt': 34}},\n",
       "  {'Hull City': {'dg': -25L, 'pt': 35}},\n",
       "  {'Sunderland': {'dg': -20L, 'pt': 36}},\n",
       "  {'Blackburn Rovers': {'dg': -20L, 'pt': 41}},\n",
       "  {'Portsmouth': {'dg': -19L, 'pt': 41}},\n",
       "  {'Bolton Wanderers': {'dg': -12L, 'pt': 41}},\n",
       "  {'Stoke City': {'dg': -17L, 'pt': 45}},\n",
       "  {'Wigan Athletic': {'dg': -11L, 'pt': 45}},\n",
       "  {'Manchester City': {'dg': 8L, 'pt': 50}},\n",
       "  {'West Ham United': {'dg': -3L, 'pt': 51}},\n",
       "  {'Tottenham Hotspur': {'dg': 0L, 'pt': 51}},\n",
       "  {'Fulham': {'dg': 5L, 'pt': 53}},\n",
       "  {'Aston Villa': {'dg': 6L, 'pt': 62}},\n",
       "  {'Everton': {'dg': 18L, 'pt': 63}},\n",
       "  {'Arsenal': {'dg': 31L, 'pt': 72}},\n",
       "  {'Chelsea': {'dg': 44L, 'pt': 83}},\n",
       "  {'Liverpool': {'dg': 50L, 'pt': 86}},\n",
       "  {'Manchester United': {'dg': 44L, 'pt': 90}}],\n",
       " '2009-2010': [{'Portsmouth': {'dg': -32L, 'pt': 28}},\n",
       "  {'Hull City': {'dg': -41L, 'pt': 30}},\n",
       "  {'Burnley': {'dg': -40L, 'pt': 30}},\n",
       "  {'West Ham United': {'dg': -19L, 'pt': 35}},\n",
       "  {'Wigan Athletic': {'dg': -42L, 'pt': 36}},\n",
       "  {'Wolverhampton': {'dg': -24L, 'pt': 38}},\n",
       "  {'Bolton Wanderers': {'dg': -25L, 'pt': 39}},\n",
       "  {'Sunderland': {'dg': -8L, 'pt': 44}},\n",
       "  {'Fulham': {'dg': -7L, 'pt': 46}},\n",
       "  {'Stoke City': {'dg': -14L, 'pt': 47}},\n",
       "  {'Blackburn Rovers': {'dg': -14L, 'pt': 50}},\n",
       "  {'Birmingham': {'dg': -9L, 'pt': 50}},\n",
       "  {'Everton': {'dg': 11L, 'pt': 61}},\n",
       "  {'Liverpool': {'dg': 26L, 'pt': 63}},\n",
       "  {'Aston Villa': {'dg': 13L, 'pt': 64}},\n",
       "  {'Manchester City': {'dg': 28L, 'pt': 67}},\n",
       "  {'Tottenham Hotspur': {'dg': 26L, 'pt': 70}},\n",
       "  {'Arsenal': {'dg': 42L, 'pt': 75}},\n",
       "  {'Manchester United': {'dg': 58L, 'pt': 85}},\n",
       "  {'Chelsea': {'dg': 71L, 'pt': 86}}],\n",
       " '2010-2011': [{'West Ham United': {'dg': -27L, 'pt': 33}},\n",
       "  {'Blackpool': {'dg': -23L, 'pt': 39}},\n",
       "  {'Birmingham': {'dg': -21L, 'pt': 39}},\n",
       "  {'Wolverhampton': {'dg': -20L, 'pt': 40}},\n",
       "  {'Wigan Athletic': {'dg': -21L, 'pt': 42}},\n",
       "  {'Blackburn Rovers': {'dg': -13L, 'pt': 43}},\n",
       "  {'Bolton Wanderers': {'dg': -4L, 'pt': 46}},\n",
       "  {'Stoke City': {'dg': -2L, 'pt': 46}},\n",
       "  {'Newcastle United': {'dg': -1L, 'pt': 46}},\n",
       "  {'West Bromwich Albion': {'dg': -15L, 'pt': 47}},\n",
       "  {'Sunderland': {'dg': -11L, 'pt': 47}},\n",
       "  {'Aston Villa': {'dg': -11L, 'pt': 48}},\n",
       "  {'Fulham': {'dg': 6L, 'pt': 49}},\n",
       "  {'Everton': {'dg': 6L, 'pt': 54}},\n",
       "  {'Liverpool': {'dg': 15L, 'pt': 58}},\n",
       "  {'Tottenham Hotspur': {'dg': 9L, 'pt': 62}},\n",
       "  {'Arsenal': {'dg': 29L, 'pt': 68}},\n",
       "  {'Manchester City': {'dg': 27L, 'pt': 71}},\n",
       "  {'Chelsea': {'dg': 36L, 'pt': 71}},\n",
       "  {'Manchester United': {'dg': 41L, 'pt': 80}}],\n",
       " '2011-2012': [{'Wolverhampton': {'dg': -42L, 'pt': 25}},\n",
       "  {'Blackburn Rovers': {'dg': -30L, 'pt': 31}},\n",
       "  {'Bolton Wanderers': {'dg': -31L, 'pt': 36}},\n",
       "  {'Queens Park Rangers': {'dg': -23L, 'pt': 37}},\n",
       "  {'Aston Villa': {'dg': -16L, 'pt': 38}},\n",
       "  {'Wigan Athletic': {'dg': -20L, 'pt': 43}},\n",
       "  {'Stoke City': {'dg': -17L, 'pt': 45}},\n",
       "  {'Sunderland': {'dg': -1L, 'pt': 45}},\n",
       "  {'Norwich City': {'dg': -14L, 'pt': 47}},\n",
       "  {'Swansea City': {'dg': -7L, 'pt': 47}},\n",
       "  {'West Bromwich Albion': {'dg': -7L, 'pt': 47}},\n",
       "  {'Fulham': {'dg': -3L, 'pt': 52}},\n",
       "  {'Liverpool': {'dg': 7L, 'pt': 52}},\n",
       "  {'Everton': {'dg': 10L, 'pt': 56}},\n",
       "  {'Chelsea': {'dg': 19L, 'pt': 64}},\n",
       "  {'Newcastle United': {'dg': 5L, 'pt': 65}},\n",
       "  {'Tottenham Hotspur': {'dg': 25L, 'pt': 69}},\n",
       "  {'Arsenal': {'dg': 25L, 'pt': 70}},\n",
       "  {'Manchester United': {'dg': 56L, 'pt': 89}},\n",
       "  {'Manchester City': {'dg': 64L, 'pt': 89}}],\n",
       " '2012-2013': [{'Queens Park Rangers': {'dg': -30L, 'pt': 25}},\n",
       "  {'Reading': {'dg': -30L, 'pt': 28}},\n",
       "  {'Wigan Athletic': {'dg': -26L, 'pt': 36}},\n",
       "  {'Sunderland': {'dg': -13L, 'pt': 39}},\n",
       "  {'Newcastle United': {'dg': -23L, 'pt': 41}},\n",
       "  {'Aston Villa': {'dg': -22L, 'pt': 41}},\n",
       "  {'Southampton': {'dg': -11L, 'pt': 41}},\n",
       "  {'Stoke City': {'dg': -11L, 'pt': 42}},\n",
       "  {'Fulham': {'dg': -10L, 'pt': 43}},\n",
       "  {'Norwich City': {'dg': -17L, 'pt': 44}},\n",
       "  {'West Ham United': {'dg': -8L, 'pt': 46}},\n",
       "  {'Swansea City': {'dg': -4L, 'pt': 46}},\n",
       "  {'West Bromwich Albion': {'dg': -4L, 'pt': 49}},\n",
       "  {'Liverpool': {'dg': 28L, 'pt': 61}},\n",
       "  {'Everton': {'dg': 15L, 'pt': 63}},\n",
       "  {'Tottenham Hotspur': {'dg': 20L, 'pt': 72}},\n",
       "  {'Arsenal': {'dg': 35L, 'pt': 73}},\n",
       "  {'Chelsea': {'dg': 36L, 'pt': 75}},\n",
       "  {'Manchester City': {'dg': 32L, 'pt': 78}},\n",
       "  {'Manchester United': {'dg': 43L, 'pt': 89}}]}"
      ]
     },
     "execution_count": 22,
     "metadata": {},
     "output_type": "execute_result"
    }
   ],
   "source": [
    "season_table"
   ]
  },
  {
   "cell_type": "code",
   "execution_count": 39,
   "metadata": {
    "collapsed": true
   },
   "outputs": [],
   "source": [
    "# save the dictionary in a json format.\n",
    "\n",
    "with open('./data/season_table.json', 'w') as outfile:\n",
    "    json.dump(season_table, outfile)"
   ]
  },
  {
   "cell_type": "code",
   "execution_count": 31,
   "metadata": {
    "collapsed": false
   },
   "outputs": [],
   "source": [
    "# We extract the champion of each season.\n",
    "\n",
    "season_champions = pd.DataFrame(columns = ['season','champion','win','draw','loss','points'], \n",
    "                          index = np.arange(0,len(data.season.unique()),1))\n",
    "\n",
    "c = 0\n",
    "for i in sorted(season_table.keys()):\n",
    "    temp = season_table[i][-1]\n",
    "    ch = temp.keys()[0]\n",
    "    pt = temp[ch]['pt']\n",
    "    season_champions.season[c] = i\n",
    "    season_champions.champion[c] = ch\n",
    "    season_champions.points[c] = pt\n",
    "    season_champions.win[c] =  team_W_L_D_dict[i][ch]['W']\n",
    "    season_champions.draw[c] = team_W_L_D_dict[i][ch]['D']\n",
    "    season_champions.loss[c] = team_W_L_D_dict[i][ch]['L']\n",
    "    c+=1\n",
    "season_champions.to_csv('./data/season_champions.csv')"
   ]
  },
  {
   "cell_type": "code",
   "execution_count": 32,
   "metadata": {
    "collapsed": false
   },
   "outputs": [
    {
     "data": {
      "text/html": [
       "<div>\n",
       "<table border=\"1\" class=\"dataframe\">\n",
       "  <thead>\n",
       "    <tr style=\"text-align: right;\">\n",
       "      <th></th>\n",
       "      <th>season</th>\n",
       "      <th>champion</th>\n",
       "      <th>win</th>\n",
       "      <th>draw</th>\n",
       "      <th>loss</th>\n",
       "      <th>points</th>\n",
       "    </tr>\n",
       "  </thead>\n",
       "  <tbody>\n",
       "    <tr>\n",
       "      <th>0</th>\n",
       "      <td>2001-2002</td>\n",
       "      <td>Arsenal</td>\n",
       "      <td>26</td>\n",
       "      <td>9</td>\n",
       "      <td>3</td>\n",
       "      <td>87</td>\n",
       "    </tr>\n",
       "    <tr>\n",
       "      <th>1</th>\n",
       "      <td>2002-2003</td>\n",
       "      <td>Manchester United</td>\n",
       "      <td>25</td>\n",
       "      <td>8</td>\n",
       "      <td>5</td>\n",
       "      <td>83</td>\n",
       "    </tr>\n",
       "    <tr>\n",
       "      <th>2</th>\n",
       "      <td>2003-2004</td>\n",
       "      <td>Arsenal</td>\n",
       "      <td>26</td>\n",
       "      <td>12</td>\n",
       "      <td>0</td>\n",
       "      <td>90</td>\n",
       "    </tr>\n",
       "    <tr>\n",
       "      <th>3</th>\n",
       "      <td>2004-2005</td>\n",
       "      <td>Chelsea</td>\n",
       "      <td>29</td>\n",
       "      <td>8</td>\n",
       "      <td>1</td>\n",
       "      <td>95</td>\n",
       "    </tr>\n",
       "    <tr>\n",
       "      <th>4</th>\n",
       "      <td>2005-2006</td>\n",
       "      <td>Chelsea</td>\n",
       "      <td>29</td>\n",
       "      <td>4</td>\n",
       "      <td>5</td>\n",
       "      <td>91</td>\n",
       "    </tr>\n",
       "    <tr>\n",
       "      <th>5</th>\n",
       "      <td>2006-2007</td>\n",
       "      <td>Manchester United</td>\n",
       "      <td>28</td>\n",
       "      <td>5</td>\n",
       "      <td>5</td>\n",
       "      <td>89</td>\n",
       "    </tr>\n",
       "    <tr>\n",
       "      <th>6</th>\n",
       "      <td>2007-2008</td>\n",
       "      <td>Manchester United</td>\n",
       "      <td>27</td>\n",
       "      <td>6</td>\n",
       "      <td>5</td>\n",
       "      <td>87</td>\n",
       "    </tr>\n",
       "    <tr>\n",
       "      <th>7</th>\n",
       "      <td>2008-2009</td>\n",
       "      <td>Manchester United</td>\n",
       "      <td>28</td>\n",
       "      <td>6</td>\n",
       "      <td>4</td>\n",
       "      <td>90</td>\n",
       "    </tr>\n",
       "    <tr>\n",
       "      <th>8</th>\n",
       "      <td>2009-2010</td>\n",
       "      <td>Chelsea</td>\n",
       "      <td>27</td>\n",
       "      <td>5</td>\n",
       "      <td>6</td>\n",
       "      <td>86</td>\n",
       "    </tr>\n",
       "    <tr>\n",
       "      <th>9</th>\n",
       "      <td>2010-2011</td>\n",
       "      <td>Manchester United</td>\n",
       "      <td>23</td>\n",
       "      <td>11</td>\n",
       "      <td>4</td>\n",
       "      <td>80</td>\n",
       "    </tr>\n",
       "    <tr>\n",
       "      <th>10</th>\n",
       "      <td>2011-2012</td>\n",
       "      <td>Manchester City</td>\n",
       "      <td>28</td>\n",
       "      <td>5</td>\n",
       "      <td>5</td>\n",
       "      <td>89</td>\n",
       "    </tr>\n",
       "    <tr>\n",
       "      <th>11</th>\n",
       "      <td>2012-2013</td>\n",
       "      <td>Manchester United</td>\n",
       "      <td>28</td>\n",
       "      <td>5</td>\n",
       "      <td>5</td>\n",
       "      <td>89</td>\n",
       "    </tr>\n",
       "  </tbody>\n",
       "</table>\n",
       "</div>"
      ],
      "text/plain": [
       "       season           champion win draw loss points\n",
       "0   2001-2002            Arsenal  26    9    3     87\n",
       "1   2002-2003  Manchester United  25    8    5     83\n",
       "2   2003-2004            Arsenal  26   12    0     90\n",
       "3   2004-2005            Chelsea  29    8    1     95\n",
       "4   2005-2006            Chelsea  29    4    5     91\n",
       "5   2006-2007  Manchester United  28    5    5     89\n",
       "6   2007-2008  Manchester United  27    6    5     87\n",
       "7   2008-2009  Manchester United  28    6    4     90\n",
       "8   2009-2010            Chelsea  27    5    6     86\n",
       "9   2010-2011  Manchester United  23   11    4     80\n",
       "10  2011-2012    Manchester City  28    5    5     89\n",
       "11  2012-2013  Manchester United  28    5    5     89"
      ]
     },
     "execution_count": 32,
     "metadata": {},
     "output_type": "execute_result"
    }
   ],
   "source": [
    "season_champions"
   ]
  },
  {
   "cell_type": "code",
   "execution_count": 4,
   "metadata": {
    "collapsed": true
   },
   "outputs": [],
   "source": [
    "season_champions = pd.read_csv('./data/season_champions.csv')"
   ]
  },
  {
   "cell_type": "code",
   "execution_count": 8,
   "metadata": {
    "collapsed": false
   },
   "outputs": [
    {
     "data": {
      "text/plain": [
       "<matplotlib.figure.Figure at 0xcb3fcf8>"
      ]
     },
     "metadata": {},
     "output_type": "display_data"
    },
    {
     "data": {
      "image/png": "[encoded data removed]",
      "text/plain": [
       "<matplotlib.figure.Figure at 0xcb3f748>"
      ]
     },
     "metadata": {},
     "output_type": "display_data"
    }
   ],
   "source": [
    "# plot the number of wins, losses and draws for each champion.\n",
    "\n",
    "\n",
    "temp = season_champions[['season','champion','win','draw','loss']]\n",
    "\n",
    "fig = plt.figure(figsize=(16,9))\n",
    "ax = temp.plot(kind='bar', figsize=(16, 9), legend=True, fontsize=15,colormap ='RdYlGn_r')\n",
    "\n",
    "ax.set_xticks(season_champions.index)\n",
    "ax.set_xticklabels(season_champions.season, rotation=30)\n",
    "ax.set_ylabel(\"#\", size=12)\n",
    "ax.set_title(\"The Number of Wins, Draws, and Losses of Each Champion\",fontsize='xx-large')\n",
    "\n",
    "savefig('The Number of Wins, Draws, and Losses of Each Champion.png')\n"
   ]
  },
  {
   "cell_type": "code",
   "execution_count": 36,
   "metadata": {
    "collapsed": false
   },
   "outputs": [
    {
     "name": "stderr",
     "output_type": "stream",
     "text": [
      "C:\\Users\\milanlouei.s\\AppData\\Local\\Continuum\\Anaconda2\\lib\\site-packages\\matplotlib\\axes\\_axes.py:519: UserWarning: No labelled objects found. Use label='...' kwarg on individual plots.\n",
      "  warnings.warn(\"No labelled objects found. \"\n"
     ]
    },
    {
     "data": {
      "image/png": "[encoded data removed]",
      "text/plain": [
       "<matplotlib.figure.Figure at 0xc2c9940>"
      ]
     },
     "metadata": {},
     "output_type": "display_data"
    }
   ],
   "source": [
    "# plot the number of points each champion has collected.\n",
    "\n",
    "temp = season_champions[['season','champion','points']]\n",
    "\n",
    "plt.figure(figsize=(16,9))\n",
    "\n",
    "c = 0\n",
    "\n",
    "for i in range(len(temp)):\n",
    "    \n",
    "    plt.bar(c,temp.points[c],align=\"center\", color = 'forestgreen', width=.5)\n",
    "    plt.xticks(range(len(temp)),temp.season,rotation=30,ha='center',size = 15)\n",
    "    plt.yticks(size = 20)\n",
    "    plt.text(c, temp.points[c]+1, temp.champion[c], ha=\"center\", va=\"center\", rotation=90,size=15,color = 'black')\n",
    "    c+=1\n",
    "\n",
    "plt.title('Points Collected by Each Champion',size = 15)\n",
    "plt.legend()\n",
    "plt.ylim(75,98)\n",
    "plt.grid(True)\n",
    "\n",
    "savefig('Points Collected by Each Champion.png')"
   ]
  }
 ],
 "metadata": {
  "kernelspec": {
   "display_name": "Python 2",
   "language": "python",
   "name": "python2"
  },
  "language_info": {
   "codemirror_mode": {
    "name": "ipython",
    "version": 2
   },
   "file_extension": ".py",
   "mimetype": "text/x-python",
   "name": "python",
   "nbconvert_exporter": "python",
   "pygments_lexer": "ipython2",
   "version": "2.7.12"
  }
 },
 "nbformat": 4,
 "nbformat_minor": 0
}
